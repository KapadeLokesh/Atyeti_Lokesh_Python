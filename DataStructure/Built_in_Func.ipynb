{
 "cells": [
  {
   "cell_type": "markdown",
   "id": "fed6f3cf",
   "metadata": {},
   "source": [
    "**Built-in Functions: len(), sum(), min(), max(), etc.**"
   ]
  },
  {
   "cell_type": "code",
   "execution_count": null,
   "id": "af8902ad",
   "metadata": {},
   "outputs": [
    {
     "name": "stdout",
     "output_type": "stream",
     "text": [
      "5\n",
      "6\n",
      "5\n",
      "2\n",
      "[1, 2, 3]\n",
      "[0, 1, 2, 3, 4]\n"
     ]
    }
   ],
   "source": [
    "# basic functions:\n",
    "print(len(\"hello\"))      \n",
    "print(sum([1, 2, 3]))      \n",
    "print(max(1, 5, 3))        \n",
    "print(min([4, 2, 7]))      \n",
    "print(sorted([3, 1, 2]))  \n",
    "print(list(range(5))) "
   ]
  },
  {
   "cell_type": "code",
   "execution_count": null,
   "id": "41e98a2c",
   "metadata": {},
   "outputs": [
    {
     "name": "stdout",
     "output_type": "stream",
     "text": [
      "10\n",
      "3.14\n",
      "8\n"
     ]
    }
   ],
   "source": [
    "# numeric function:\n",
    "print(abs(-10))       \n",
    "print(round(3.14159, 2))  \n",
    "print(pow(2, 3))       "
   ]
  },
  {
   "cell_type": "code",
   "execution_count": 4,
   "id": "1fa4bcb2",
   "metadata": {},
   "outputs": [
    {
     "name": "stdout",
     "output_type": "stream",
     "text": [
      "5\n",
      "3.14\n",
      "100\n",
      "False\n"
     ]
    }
   ],
   "source": [
    "# conversion function:\n",
    "print(int(\"5\"))       \n",
    "print(float(\"3.14\"))  \n",
    "print(str(100))        \n",
    "print(bool(0))"
   ]
  }
 ],
 "metadata": {
  "kernelspec": {
   "display_name": "Python 3",
   "language": "python",
   "name": "python3"
  },
  "language_info": {
   "codemirror_mode": {
    "name": "ipython",
    "version": 3
   },
   "file_extension": ".py",
   "mimetype": "text/x-python",
   "name": "python",
   "nbconvert_exporter": "python",
   "pygments_lexer": "ipython3",
   "version": "3.13.1"
  }
 },
 "nbformat": 4,
 "nbformat_minor": 5
}
