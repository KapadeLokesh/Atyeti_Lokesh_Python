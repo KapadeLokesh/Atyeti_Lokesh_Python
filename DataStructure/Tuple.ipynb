{
 "cells": [
  {
   "cell_type": "markdown",
   "id": "3ae0b781",
   "metadata": {},
   "source": [
    "**Tuples: Immutable sequences**"
   ]
  },
  {
   "cell_type": "code",
   "execution_count": 9,
   "id": "342460e0",
   "metadata": {},
   "outputs": [
    {
     "name": "stdout",
     "output_type": "stream",
     "text": [
      "<class 'tuple'>\n",
      "('apple', 'banana', 'cherry', 10, True, 100.2)\n",
      "cherry\n",
      "100.2\n",
      "('cherry', 10)\n"
     ]
    }
   ],
   "source": [
    "mytuple = (\"apple\", \"banana\", \"cherry\", 10, True, 100.2)\n",
    "print(type(mytuple))\n",
    "print(mytuple)\n",
    "print(mytuple[2])\n",
    "print(mytuple[-1])\n",
    "print(mytuple[2:-2])\n"
   ]
  },
  {
   "cell_type": "code",
   "execution_count": 2,
   "id": "1438be3f",
   "metadata": {},
   "outputs": [
    {
     "name": "stdout",
     "output_type": "stream",
     "text": [
      "Original Tuple:  ('apple', 'banana', 'cherry')\n",
      "Updated Tuple:  ('apple', 'melons', 'cherry', 'orange')\n"
     ]
    }
   ],
   "source": [
    "# change tuple values:\n",
    "x = (\"apple\", \"banana\", \"cherry\")\n",
    "print(\"Original Tuple: \",x)\n",
    "y = list(x)\n",
    "y[1] = \"melons\"\n",
    "y.append(\"orange\")\n",
    "x = tuple(y)\n",
    "print(\"Updated Tuple: \",x)"
   ]
  },
  {
   "cell_type": "code",
   "execution_count": 5,
   "id": "7c2817c9",
   "metadata": {},
   "outputs": [
    {
     "ename": "NameError",
     "evalue": "name 'x' is not defined",
     "output_type": "error",
     "traceback": [
      "\u001b[31m---------------------------------------------------------------------------\u001b[39m",
      "\u001b[31mNameError\u001b[39m                                 Traceback (most recent call last)",
      "\u001b[36mCell\u001b[39m\u001b[36m \u001b[39m\u001b[32mIn[5]\u001b[39m\u001b[32m, line 3\u001b[39m\n\u001b[32m      1\u001b[39m x = (\u001b[33m\"\u001b[39m\u001b[33mapple\u001b[39m\u001b[33m\"\u001b[39m, \u001b[33m\"\u001b[39m\u001b[33mbanana\u001b[39m\u001b[33m\"\u001b[39m, \u001b[33m\"\u001b[39m\u001b[33mcherry\u001b[39m\u001b[33m\"\u001b[39m)\n\u001b[32m      2\u001b[39m \u001b[38;5;28;01mdel\u001b[39;00m x \n\u001b[32m----> \u001b[39m\u001b[32m3\u001b[39m \u001b[38;5;28mprint\u001b[39m(\u001b[43mx\u001b[49m) \u001b[38;5;66;03m# will give error\u001b[39;00m\n",
      "\u001b[31mNameError\u001b[39m: name 'x' is not defined"
     ]
    }
   ],
   "source": [
    "x = (\"apple\", \"banana\", \"cherry\")\n",
    "del x \n",
    "print(x) # will give error"
   ]
  },
  {
   "cell_type": "code",
   "execution_count": 11,
   "id": "d235c193",
   "metadata": {},
   "outputs": [
    {
     "name": "stdout",
     "output_type": "stream",
     "text": [
      "apple\n",
      "banana\n"
     ]
    }
   ],
   "source": [
    "# unpacking a tuple:\n",
    "fruits = (\"apple\", \"banana\", \"orange\")\n",
    "(red,yellow,orange) = fruits\n",
    "print(red)\n",
    "print(yellow)"
   ]
  },
  {
   "cell_type": "code",
   "execution_count": null,
   "id": "89b8ae55",
   "metadata": {},
   "outputs": [
    {
     "ename": "TypeError",
     "evalue": "'tuple' object does not support item assignment",
     "output_type": "error",
     "traceback": [
      "\u001b[31m---------------------------------------------------------------------------\u001b[39m",
      "\u001b[31mTypeError\u001b[39m                                 Traceback (most recent call last)",
      "\u001b[36mCell\u001b[39m\u001b[36m \u001b[39m\u001b[32mIn[14]\u001b[39m\u001b[32m, line 2\u001b[39m\n\u001b[32m      1\u001b[39m fruits = (\u001b[33m\"\u001b[39m\u001b[33mapple\u001b[39m\u001b[33m\"\u001b[39m, \u001b[33m\"\u001b[39m\u001b[33mbanana\u001b[39m\u001b[33m\"\u001b[39m, \u001b[33m\"\u001b[39m\u001b[33morange\u001b[39m\u001b[33m\"\u001b[39m)\n\u001b[32m----> \u001b[39m\u001b[32m2\u001b[39m \u001b[43mfruits\u001b[49m\u001b[43m[\u001b[49m\u001b[32;43m1\u001b[39;49m\u001b[43m]\u001b[49m = \u001b[33m\"\u001b[39m\u001b[33mmelon\u001b[39m\u001b[33m\"\u001b[39m \n\u001b[32m      3\u001b[39m \u001b[38;5;66;03m# will give error as immutable.\u001b[39;00m\n",
      "\u001b[31mTypeError\u001b[39m: 'tuple' object does not support item assignment"
     ]
    }
   ],
   "source": [
    "fruits = (\"apple\", \"banana\", \"orange\")\n",
    "fruits[1] = \"melon\" \n",
    "# will give error as immutable."
   ]
  },
  {
   "cell_type": "markdown",
   "id": "d16774ba",
   "metadata": {},
   "source": [
    "**Tuple Methods:**"
   ]
  },
  {
   "cell_type": "code",
   "execution_count": 16,
   "metadata": {},
   "outputs": [
    {
     "name": "stdout",
     "output_type": "stream",
     "text": [
      "3\n"
     ]
    }
   ],
   "source": [
    "# count() method:\n",
    "tup1 = (2,4,2,4,6,8,1,2)\n",
    "x = tup1.count(2)\n",
    "print(x)"
   ]
  },
  {
   "cell_type": "code",
   "execution_count": 17,
   "id": "3cbcddbe",
   "metadata": {},
   "outputs": [
    {
     "name": "stdout",
     "output_type": "stream",
     "text": [
      "0\n"
     ]
    }
   ],
   "source": [
    "# index() method:\n",
    "tup1 = (2,4,2,4,6,8,1,2)\n",
    "x = tup1.index(2)\n",
    "print(x)"
   ]
  },
  {
   "cell_type": "code",
   "execution_count": 1,
   "id": "7cd3897f",
   "metadata": {},
   "outputs": [
    {
     "name": "stdout",
     "output_type": "stream",
     "text": [
      "7\n"
     ]
    }
   ],
   "source": [
    "tup1 = (2,4,2,4,6,8,1,2)\n",
    "x = tup1.index(2,3)\n",
    "print(x)"
   ]
  }
 ],
 "metadata": {
  "kernelspec": {
   "display_name": "Python 3",
   "language": "python",
   "name": "python3"
  },
  "language_info": {
   "codemirror_mode": {
    "name": "ipython",
    "version": 3
   },
   "file_extension": ".py",
   "mimetype": "text/x-python",
   "name": "python",
   "nbconvert_exporter": "python",
   "pygments_lexer": "ipython3",
   "version": "3.13.1"
  }
 },
 "nbformat": 4,
 "nbformat_minor": 5
}
