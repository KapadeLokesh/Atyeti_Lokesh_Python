{
 "cells": [
  {
   "cell_type": "markdown",
   "id": "bad5126b",
   "metadata": {},
   "source": [
    "**Strings: Immutability, slicing, methods.**"
   ]
  },
  {
   "cell_type": "code",
   "execution_count": 21,
   "id": "7d751596",
   "metadata": {},
   "outputs": [
    {
     "name": "stdout",
     "output_type": "stream",
     "text": [
      "   Hello world, python is fun! \n",
      "lo wor\n",
      "   HELLO WORLD, PYTHON IS FUN! \n",
      "   hello world, python is fun! \n",
      "Hello world, python is fun!\n",
      "   Mello world, python is fun! \n",
      "['', '', '', 'Hello', 'world,', 'python', 'is', 'fun!', '']\n"
     ]
    }
   ],
   "source": [
    "string1 = \"   Hello world, python is fun! \"\n",
    "print(string1)\n",
    "print(string1[6:12])\n",
    "print(string1.upper())\n",
    "print(string1.lower())\n",
    "print(string1.strip())\n",
    "print(string1.replace(\"H\",\"M\"))\n",
    "print(string1.split(\" \"))"
   ]
  },
  {
   "cell_type": "code",
   "execution_count": 18,
   "id": "ed916c6a",
   "metadata": {},
   "outputs": [
    {
     "name": "stdout",
     "output_type": "stream",
     "text": [
      "Hello world,\n",
      "    Python is Fun!\n",
      "31\n"
     ]
    }
   ],
   "source": [
    "string2 = \"\"\"Hello world,\n",
    "    Python is Fun!\"\"\"\n",
    "print(string2)\n",
    "print(len(string2))\n"
   ]
  },
  {
   "cell_type": "code",
   "execution_count": 5,
   "id": "bf27b77e",
   "metadata": {},
   "outputs": [
    {
     "name": "stdout",
     "output_type": "stream",
     "text": [
      "Original string:  Hello, World!123 \n",
      " Hello, World!123 \n",
      " hello, world!123 \n",
      " hELLO, wORLD!123 \n",
      " Hi, World!123 \n",
      "8\n",
      "8\n",
      "3\n",
      "True\n",
      "True\n",
      "False\n",
      "False\n",
      "False\n",
      "False\n",
      "False\n",
      "False\n",
      "True\n",
      "['Hello,', 'World!123']\n",
      "****** Hello, World!123 ******\n",
      "b' Hello, World!123 '\n",
      "False\n",
      "False\n"
     ]
    }
   ],
   "source": [
    "s = \" Hello, World!123 \"\n",
    "\n",
    "print(\"Original string:\", s)\n",
    "\n",
    "print(s.title())\n",
    "print(s.capitalize())\n",
    "print(s.swapcase())\n",
    "print(s.replace(\"Hello\", \"Hi\"))\n",
    "print(s.find(\"World\"))\n",
    "print(s.index(\"World\"))\n",
    "print(s.count(\"l\"))\n",
    "print(s.startswith(\" H\"))\n",
    "print(s.endswith(\"3 \"))\n",
    "print(s.isalnum())\n",
    "print(s.isalpha())\n",
    "print(s.isdigit())\n",
    "print(s.islower())\n",
    "print(s.isupper())\n",
    "print(s.isspace())\n",
    "print(s.istitle())\n",
    "print(s.split())\n",
    "print(s.center(30, \"*\"))\n",
    "print(s.encode())\n",
    "print(s.isnumeric())\n",
    "print(s.isdecimal())\n"
   ]
  },
  {
   "cell_type": "code",
   "execution_count": null,
   "id": "a8e99649",
   "metadata": {},
   "outputs": [
    {
     "ename": "TypeError",
     "evalue": "'str' object does not support item assignment",
     "output_type": "error",
     "traceback": [
      "\u001b[31m---------------------------------------------------------------------------\u001b[39m",
      "\u001b[31mTypeError\u001b[39m                                 Traceback (most recent call last)",
      "\u001b[36mCell\u001b[39m\u001b[36m \u001b[39m\u001b[32mIn[1]\u001b[39m\u001b[32m, line 2\u001b[39m\n\u001b[32m      1\u001b[39m str1 = \u001b[33m\"\u001b[39m\u001b[33mHello World\u001b[39m\u001b[33m\"\u001b[39m\n\u001b[32m----> \u001b[39m\u001b[32m2\u001b[39m \u001b[43mstr1\u001b[49m\u001b[43m[\u001b[49m\u001b[32;43m0\u001b[39;49m\u001b[43m]\u001b[49m = \u001b[33m\"\u001b[39m\u001b[33mM\u001b[39m\u001b[33m\"\u001b[39m\n",
      "\u001b[31mTypeError\u001b[39m: 'str' object does not support item assignment"
     ]
    }
   ],
   "source": [
    "str1 = \"Hello World\"\n",
    "str1[0] = \"M\" # will give error"
   ]
  },
  {
   "cell_type": "code",
   "execution_count": null,
   "id": "56fb835a",
   "metadata": {},
   "outputs": [],
   "source": []
  }
 ],
 "metadata": {
  "kernelspec": {
   "display_name": "Python 3",
   "language": "python",
   "name": "python3"
  },
  "language_info": {
   "codemirror_mode": {
    "name": "ipython",
    "version": 3
   },
   "file_extension": ".py",
   "mimetype": "text/x-python",
   "name": "python",
   "nbconvert_exporter": "python",
   "pygments_lexer": "ipython3",
   "version": "3.13.1"
  }
 },
 "nbformat": 4,
 "nbformat_minor": 5
}
