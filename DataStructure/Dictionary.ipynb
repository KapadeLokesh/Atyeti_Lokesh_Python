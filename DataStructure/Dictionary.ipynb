{
 "cells": [
  {
   "cell_type": "markdown",
   "id": "85aba736",
   "metadata": {},
   "source": [
    "**Dictionaries: Key-value pairs.**"
   ]
  },
  {
   "cell_type": "code",
   "execution_count": 11,
   "id": "a5f25049",
   "metadata": {},
   "outputs": [
    {
     "name": "stdout",
     "output_type": "stream",
     "text": [
      "{'brand': 'Ford', 'model': 'Mustang', 'year': 1967, 'colors': ['red', 'white', 'blue']}\n",
      "['red', 'white', 'blue']\n",
      "4\n",
      "1967\n",
      "dict_keys(['brand', 'model', 'year', 'colors'])\n",
      "dict_values(['Ford', 'Mustang', 1967, ['red', 'white', 'blue']])\n",
      "dict_items([('brand', 'Ford'), ('model', 'Mustang'), ('year', 1967), ('colors', ['red', 'white', 'blue'])])\n"
     ]
    }
   ],
   "source": [
    "# create a dictionary:\n",
    "my_dict = {\"brand\": \"Ford\",\n",
    "           \"model\":\"Mustang\",\n",
    "           \"year\":1967,\n",
    "           \"colors\": [\"red\", \"white\", \"blue\"]}\n",
    "print(my_dict)\n",
    "print(my_dict[\"colors\"])\n",
    "print(len(my_dict))\n",
    "# methods:\n",
    "print(my_dict.get(\"year\"))\n",
    "print(my_dict.keys())\n",
    "print(my_dict.values())\n",
    "print(my_dict.items())"
   ]
  },
  {
   "cell_type": "code",
   "execution_count": null,
   "id": "4a1f33af",
   "metadata": {},
   "outputs": [
    {
     "name": "stdout",
     "output_type": "stream",
     "text": [
      "{'name': 'Loki', 'age': 25, 'country': 'IND'}\n",
      "{'name': 'Loki', 'age': 27, 'country': 'IND'}\n",
      "{'name': 'Loki', 'age': 27, 'country': 'IND', 'ID': 1234}\n",
      "{'name': 'Loki', 'age': 27, 'country': 'IND', 'ID': 1234, 'zip': 411014}\n",
      "{'name': 'Loki', 'age': 27, 'country': 'IND', 'ID': 1234}\n",
      "{'name': 'Loki', 'age': 27, 'country': 'IND'}\n",
      "{'name': 'Loki', 'age': 27}\n",
      "{}\n",
      "{'brand': 'Ford', 'model': 'Mustang', 'year': 1967, 'colors': ['red', 'white', 'blue']}\n"
     ]
    }
   ],
   "source": [
    "# dictionary methods():\n",
    "\n",
    "dict1 = dict(name=\"Loki\", age = 25, country = \"IND\")\n",
    "print(dict1)\n",
    "\n",
    "dict1[\"age\"] = 27\n",
    "print(dict1)\n",
    "\n",
    "dict1.update({\"ID\":1234}) # to add ,update elements(key,value)\n",
    "print(dict1)\n",
    "\n",
    "dict1[\"zip\"] = 411014\n",
    "print(dict1)\n",
    "\n",
    "dict1.pop(\"zip\")\n",
    "print(dict1)\n",
    "\n",
    "dict1.popitem()\n",
    "print(dict1) # pop last added item\n",
    "\n",
    "del dict1[\"country\"]\n",
    "print(dict1)\n",
    "\n",
    "dict1.clear()\n",
    "print(dict1)\n",
    "\n",
    "dict1 = my_dict.copy()\n",
    "print(dict1)\n"
   ]
  },
  {
   "cell_type": "code",
   "execution_count": 12,
   "id": "5c635cb4",
   "metadata": {},
   "outputs": [
    {
     "data": {
      "text/plain": [
       "{'sape': 4139, 'guido': 4127, 'jack': 4098}"
      ]
     },
     "execution_count": 12,
     "metadata": {},
     "output_type": "execute_result"
    }
   ],
   "source": [
    "dict([('sape', 4139), ('guido', 4127), ('jack', 4098)])"
   ]
  },
  {
   "cell_type": "code",
   "execution_count": 31,
   "id": "594752da",
   "metadata": {},
   "outputs": [
    {
     "name": "stdout",
     "output_type": "stream",
     "text": [
      "brand\n",
      "model\n",
      "year\n",
      "colors\n"
     ]
    }
   ],
   "source": [
    "for i in dict1.keys():\n",
    "    print(i)"
   ]
  },
  {
   "cell_type": "code",
   "execution_count": 30,
   "id": "1f43242f",
   "metadata": {},
   "outputs": [
    {
     "name": "stdout",
     "output_type": "stream",
     "text": [
      "Ford\n",
      "Mustang\n",
      "1967\n",
      "['red', 'white', 'blue']\n"
     ]
    }
   ],
   "source": [
    "for i in dict1.values():\n",
    "    print(i)"
   ]
  },
  {
   "cell_type": "code",
   "execution_count": 36,
   "id": "f16f0888",
   "metadata": {},
   "outputs": [
    {
     "name": "stdout",
     "output_type": "stream",
     "text": [
      "brand Ford\n",
      "model Mustang\n",
      "year 1967\n",
      "colors ['red', 'white', 'blue']\n"
     ]
    }
   ],
   "source": [
    "for i,j in dict1.items():\n",
    "    print(i,j)"
   ]
  }
 ],
 "metadata": {
  "kernelspec": {
   "display_name": "Python 3",
   "language": "python",
   "name": "python3"
  },
  "language_info": {
   "codemirror_mode": {
    "name": "ipython",
    "version": 3
   },
   "file_extension": ".py",
   "mimetype": "text/x-python",
   "name": "python",
   "nbconvert_exporter": "python",
   "pygments_lexer": "ipython3",
   "version": "3.13.1"
  }
 },
 "nbformat": 4,
 "nbformat_minor": 5
}
