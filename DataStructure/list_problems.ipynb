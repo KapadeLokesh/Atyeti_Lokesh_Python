{
 "cells": [
  {
   "cell_type": "markdown",
   "id": "32bd6615",
   "metadata": {},
   "source": [
    "Lists: Creation, indexing, slicing, methods, comprehensions."
   ]
  },
  {
   "cell_type": "markdown",
   "id": "8b5db553",
   "metadata": {},
   "source": [
    "Problem 1:\n",
    "Find unique numbers in a given list."
   ]
  },
  {
   "cell_type": "code",
   "execution_count": 16,
   "id": "2e3eddf5",
   "metadata": {},
   "outputs": [
    {
     "name": "stdout",
     "output_type": "stream",
     "text": [
      "[1, 2, 3, 4, 5, 6, 8, 9]\n"
     ]
    }
   ],
   "source": [
    "list1 = [1,3,4,5,8,9,5,4,3,2,6]\n",
    "unique = []\n",
    "\n",
    "for num in list1:\n",
    "    if num not in unique:\n",
    "        unique.append(num)\n",
    "\n",
    "print(sorted(unique))      \n"
   ]
  },
  {
   "cell_type": "markdown",
   "id": "57fb0f5a",
   "metadata": {},
   "source": [
    "Problem 2:\n",
    "Find sum of all numbers in a list."
   ]
  },
  {
   "cell_type": "code",
   "execution_count": 17,
   "id": "cdf76a06",
   "metadata": {},
   "outputs": [
    {
     "name": "stdout",
     "output_type": "stream",
     "text": [
      "30\n"
     ]
    }
   ],
   "source": [
    "L = [2, 4, 8, 9, 5, 2]\n",
    "sumOfList= 0\n",
    "for num in L:\n",
    "    sumOfList+=num\n",
    "print(sumOfList)"
   ]
  },
  {
   "cell_type": "markdown",
   "id": "5c98a250",
   "metadata": {},
   "source": [
    "Problem 3:\n",
    "Create a list of 5 random integers."
   ]
  },
  {
   "cell_type": "code",
   "execution_count": 19,
   "id": "d3213735",
   "metadata": {},
   "outputs": [
    {
     "name": "stdout",
     "output_type": "stream",
     "text": [
      "[13, 8, 19, 15, 5]\n"
     ]
    }
   ],
   "source": [
    "import random\n",
    "random_list = []\n",
    "\n",
    "for i in range(5):\n",
    "    x =random.randint(0,20)\n",
    "    random_list.append(x)\n",
    "\n",
    "print(random_list)"
   ]
  },
  {
   "cell_type": "markdown",
   "id": "03d29cb9",
   "metadata": {},
   "source": [
    "Problem 4:\n",
    "To reverse a list at a specific location."
   ]
  },
  {
   "cell_type": "code",
   "execution_count": 37,
   "id": "9b1bc6a0",
   "metadata": {},
   "outputs": [
    {
     "name": "stdout",
     "output_type": "stream",
     "text": [
      "[1, 2, 3, 4, 5, 6, 10, 9, 8, 7]\n"
     ]
    }
   ],
   "source": [
    "list1 = [1,2,3,4,5,6,7,8,9,10]\n",
    "index = 6\n",
    "\n",
    "result = list1[:index] + list1[index:][::-1]\n",
    "print(result)"
   ]
  },
  {
   "cell_type": "markdown",
   "id": "6918f10b",
   "metadata": {},
   "source": [
    "Create a new list containing the square of only the even numbers using list comprehension."
   ]
  },
  {
   "cell_type": "code",
   "execution_count": 41,
   "id": "274534b5",
   "metadata": {},
   "outputs": [
    {
     "name": "stdout",
     "output_type": "stream",
     "text": [
      "[4, 16, 36]\n"
     ]
    }
   ],
   "source": [
    "nums = [1, 2, 3, 4, 5, 6]\n",
    "\n",
    "result = [num**2 for num in nums if num % 2 == 0]\n",
    "print(result)"
   ]
  },
  {
   "cell_type": "markdown",
   "id": "5108acaa",
   "metadata": {},
   "source": [
    "Function that returns a list of elements that appear more than once in the list."
   ]
  },
  {
   "cell_type": "code",
   "execution_count": 47,
   "id": "9138145e",
   "metadata": {},
   "outputs": [
    {
     "data": {
      "text/plain": [
       "[2, 4]"
      ]
     },
     "execution_count": 47,
     "metadata": {},
     "output_type": "execute_result"
    }
   ],
   "source": [
    "items = [1, 2, 2, 3, 4, 4, 5]\n",
    "\n",
    "def new_list(items):\n",
    "    result=[]\n",
    "    for i in items:\n",
    "        if items.count(i) > 1 and i not in result:\n",
    "            result.append(i)\n",
    "    return result\n",
    "new_list(items)   "
   ]
  },
  {
   "cell_type": "markdown",
   "id": "e1895153",
   "metadata": {},
   "source": [
    "Write a function that removes every 3rd element from a list."
   ]
  },
  {
   "cell_type": "code",
   "execution_count": 56,
   "id": "ebe83f29",
   "metadata": {},
   "outputs": [
    {
     "data": {
      "text/plain": [
       "[1, 2, 4, 5, 7, 8]"
      ]
     },
     "execution_count": 56,
     "metadata": {},
     "output_type": "execute_result"
    }
   ],
   "source": [
    "nums = [1, 2, 3, 4, 5, 6, 7, 8, 9]\n",
    "n = int(input(\"Enter a number: \"))\n",
    "\n",
    "def new_list(nums,n):\n",
    "    result = []\n",
    "    for i in range(len(nums)):\n",
    "        if (i+1) % n != 0:\n",
    "            result.append(nums[i])\n",
    "    return result\n",
    "\n",
    "new_list(nums,n)"
   ]
  },
  {
   "cell_type": "markdown",
   "id": "ecf3e622",
   "metadata": {},
   "source": [
    "Write a function to split list in N number of chunks."
   ]
  },
  {
   "cell_type": "code",
   "execution_count": 57,
   "id": "7626e8d9",
   "metadata": {},
   "outputs": [
    {
     "data": {
      "text/plain": [
       "[[1, 2], [3, 4], [5, 6], [7]]"
      ]
     },
     "execution_count": 57,
     "metadata": {},
     "output_type": "execute_result"
    }
   ],
   "source": [
    "data = [1, 2, 3, 4, 5, 6, 7]\n",
    "n = int(input(\"Enter a number: \"))\n",
    "\n",
    "def splitList(data,chuck_size):\n",
    "    chucks = []\n",
    "    for i in range(0,len(data),chuck_size):\n",
    "        chuck = data[i:i + chuck_size]\n",
    "        chucks.append(chuck)\n",
    "    return chucks\n",
    "\n",
    "splitList(data,n)"
   ]
  },
  {
   "cell_type": "markdown",
   "id": "31d8a84f",
   "metadata": {},
   "source": [
    "Find Pairs That Sum to Target."
   ]
  },
  {
   "cell_type": "code",
   "execution_count": 64,
   "id": "d4c788f4",
   "metadata": {},
   "outputs": [
    {
     "data": {
      "text/plain": [
       "[[1, 5], [2, 4]]"
      ]
     },
     "execution_count": 64,
     "metadata": {},
     "output_type": "execute_result"
    }
   ],
   "source": [
    "nums = [1, 2, 3, 4, 5]\n",
    "target = int(input(\"Enter a target number: \"))\n",
    "\n",
    "def sum_pair(nums,target):\n",
    "    pair = []\n",
    "    for i in range(len(nums)):\n",
    "        for j in range(i+1,len(nums)):\n",
    "            if nums[i]+nums[j] == target:\n",
    "                pair.append([nums[i],nums[j]])\n",
    "    return pair\n",
    "\n",
    "sum_pair(nums,target)"
   ]
  },
  {
   "cell_type": "code",
   "execution_count": null,
   "id": "18ea43ea",
   "metadata": {},
   "outputs": [],
   "source": []
  }
 ],
 "metadata": {
  "kernelspec": {
   "display_name": "Python 3",
   "language": "python",
   "name": "python3"
  },
  "language_info": {
   "codemirror_mode": {
    "name": "ipython",
    "version": 3
   },
   "file_extension": ".py",
   "mimetype": "text/x-python",
   "name": "python",
   "nbconvert_exporter": "python",
   "pygments_lexer": "ipython3",
   "version": "3.13.1"
  }
 },
 "nbformat": 4,
 "nbformat_minor": 5
}
