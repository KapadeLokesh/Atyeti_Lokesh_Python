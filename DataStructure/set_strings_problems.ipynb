{
 "cells": [
  {
   "cell_type": "markdown",
   "id": "87f41d0c",
   "metadata": {},
   "source": [
    "SETS:"
   ]
  },
  {
   "cell_type": "markdown",
   "id": "6ee06a0a",
   "metadata": {},
   "source": [
    "1. Python program to find common elements in two lists with the help of set operations."
   ]
  },
  {
   "cell_type": "code",
   "execution_count": 4,
   "id": "15a876e7",
   "metadata": {},
   "outputs": [
    {
     "name": "stdout",
     "output_type": "stream",
     "text": [
      "{4, 5}\n"
     ]
    }
   ],
   "source": [
    "l1 = [1,2,3,4,5]\n",
    "l2 = [4,5,6,7,8]\n",
    "s1 = set(l1)\n",
    "s2 = set(l2)\n",
    "common = s1&s2\n",
    "commonList = list(common)\n",
    "print(common)"
   ]
  },
  {
   "cell_type": "markdown",
   "id": "21dde773",
   "metadata": {},
   "source": [
    "2. Python program to check if a set is a subset of another."
   ]
  },
  {
   "cell_type": "code",
   "execution_count": 8,
   "id": "8759ad56",
   "metadata": {},
   "outputs": [
    {
     "name": "stdout",
     "output_type": "stream",
     "text": [
      "s2 is a subset of s1\n"
     ]
    }
   ],
   "source": [
    "s1 = {1,2,3,4,5,6,7,8}\n",
    "s2 = {3,4,5}\n",
    "if s2.issubset(s1):\n",
    "    print(\"s2 is a subset of s1\")\n",
    "else:\n",
    "    print(\"s2 is not a subset of s1\")"
   ]
  },
  {
   "cell_type": "markdown",
   "id": "b981ee54",
   "metadata": {},
   "source": [
    "3. Basic operation on set."
   ]
  },
  {
   "cell_type": "code",
   "execution_count": 9,
   "id": "4c8ba249",
   "metadata": {},
   "outputs": [
    {
     "name": "stdout",
     "output_type": "stream",
     "text": [
      "{'orange', 'mango', 'banana', 'grape', 'apple'}\n",
      "{'orange', 'banana', 'grape', 'apple'}\n",
      "{'orange', 'grape', 'apple'}\n"
     ]
    }
   ],
   "source": [
    "set1 = {'apple', 'orange', 'mango', 'banana'}\n",
    "set1.add('grape')\n",
    "print(set1)\n",
    "set1.remove('mango')\n",
    "print(set1)\n",
    "set1.discard(\"banana\")\n",
    "print(set1)\n"
   ]
  },
  {
   "cell_type": "markdown",
   "id": "3adc0a2f",
   "metadata": {},
   "source": [
    "4. Detect Users with Conflicting Roles."
   ]
  },
  {
   "cell_type": "code",
   "execution_count": 18,
   "id": "b652e0e8",
   "metadata": {},
   "outputs": [
    {
     "name": "stdout",
     "output_type": "stream",
     "text": [
      "Users with conflicting roles: ['alice', 'daniel']\n"
     ]
    }
   ],
   "source": [
    "user_roles = {\n",
    "    \"alice\": {\"admin\", \"auditor\"},\n",
    "    \"bob\": {\"user\"},\n",
    "    \"carol\": {\"auditor\", \"reviewer\"},\n",
    "    \"daniel\":{\"dev\",\"prod\"}\n",
    "}\n",
    "\n",
    "conflicts = [(\"admin\", \"auditor\"), (\"dev\", \"prod\")]\n",
    "\n",
    "conflict_set = [set(pair) for pair in conflicts]\n",
    "violators = []\n",
    "\n",
    "for user, roles in user_roles.items():\n",
    "    for conflict in conflict_set:\n",
    "        if conflict.issubset(roles):\n",
    "            violators.append(user)\n",
    "            break\n",
    "\n",
    "print(\"Users with conflicting roles:\", violators)"
   ]
  },
  {
   "cell_type": "markdown",
   "id": "4ebb4ab7",
   "metadata": {},
   "source": [
    "5. Duplicate detection:"
   ]
  },
  {
   "cell_type": "code",
   "execution_count": 20,
   "id": "9978f965",
   "metadata": {},
   "outputs": [
    {
     "name": "stdout",
     "output_type": "stream",
     "text": [
      "Duplicate found: 101\n",
      "Duplicate found: 102\n"
     ]
    }
   ],
   "source": [
    "seen = set()\n",
    "stream = [101,102,103,101,104,102]\n",
    "for item in stream:\n",
    "    if item in seen:\n",
    "        print(f\"Duplicate found: {item}\")\n",
    "    else:\n",
    "        seen.add(item)"
   ]
  },
  {
   "cell_type": "markdown",
   "id": "c6266d7c",
   "metadata": {},
   "source": [
    "STRINGS:"
   ]
  },
  {
   "cell_type": "markdown",
   "id": "309fcf99",
   "metadata": {},
   "source": [
    "1. Python program to find number of vowels in a given string."
   ]
  },
  {
   "cell_type": "code",
   "execution_count": 23,
   "id": "d726361d",
   "metadata": {},
   "outputs": [
    {
     "name": "stdout",
     "output_type": "stream",
     "text": [
      "Number of Vowels: 18\n"
     ]
    }
   ],
   "source": [
    "str = \"All animals are equal. Some are more equal\"\n",
    "vowels = \"aeiou\"\n",
    "count=0\n",
    "for x in str:\n",
    "   if x.lower() in vowels: count+=1\n",
    "print (\"Number of Vowels:\", count)"
   ]
  },
  {
   "cell_type": "markdown",
   "id": "05e7a94d",
   "metadata": {},
   "source": [
    "2. Python program to drop all digits from a string."
   ]
  },
  {
   "cell_type": "code",
   "execution_count": 27,
   "id": "5bb5ad55",
   "metadata": {},
   "outputs": [
    {
     "name": "stdout",
     "output_type": "stream",
     "text": [
      "Hello, how are you!\n"
     ]
    }
   ],
   "source": [
    "\n",
    "digits = [str(x) for x in range(10)]\n",
    "mystr = 'He12llo, ho00w are33 you7!'\n",
    "chars = []\n",
    "for x in mystr:\n",
    "   if x not in digits:\n",
    "      chars.append(x)\n",
    "newstr = ''.join(chars)\n",
    "print (newstr)"
   ]
  },
  {
   "cell_type": "code",
   "execution_count": 29,
   "id": "e3cd4acc",
   "metadata": {},
   "outputs": [
    {
     "name": "stdout",
     "output_type": "stream",
     "text": [
      "Sorted string: 012345679\n"
     ]
    }
   ],
   "source": [
    "# sort a string.\n",
    "\n",
    "s = \"149703625\"\n",
    "sorted_str = ''.join(sorted(s))\n",
    "print(\"Sorted string:\", sorted_str)"
   ]
  },
  {
   "cell_type": "code",
   "execution_count": 33,
   "id": "d1c5c1a7",
   "metadata": {},
   "outputs": [
    {
     "name": "stdout",
     "output_type": "stream",
     "text": [
      "helowrd\n"
     ]
    }
   ],
   "source": [
    "# Remove Duplicate Characters from a String (Preserving Order)\n",
    "\n",
    "s = \"helloworld\"\n",
    "seen = set()\n",
    "result = \"\"\n",
    "\n",
    "for i in s:\n",
    "    if i not in seen:\n",
    "        seen.add(i)\n",
    "        result+=i\n",
    "print(result)\n"
   ]
  },
  {
   "cell_type": "code",
   "execution_count": 38,
   "id": "3801ed57",
   "metadata": {},
   "outputs": [
    {
     "name": "stdout",
     "output_type": "stream",
     "text": [
      "h: 1\n",
      "e: 1\n",
      "l: 3\n",
      "o: 2\n",
      "w: 1\n",
      "r: 1\n",
      "d: 1\n"
     ]
    }
   ],
   "source": [
    "# List Unique Characters with Their Count\n",
    "\n",
    "s = \"helloworld\"\n",
    "from collections import Counter\n",
    "\n",
    "counter = Counter(s)\n",
    "for char, count in counter.items():\n",
    "    print(f\"{char}: {count}\")\n"
   ]
  },
  {
   "cell_type": "code",
   "execution_count": null,
   "id": "c5f8faa7",
   "metadata": {},
   "outputs": [],
   "source": []
  }
 ],
 "metadata": {
  "kernelspec": {
   "display_name": "Python 3",
   "language": "python",
   "name": "python3"
  },
  "language_info": {
   "codemirror_mode": {
    "name": "ipython",
    "version": 3
   },
   "file_extension": ".py",
   "mimetype": "text/x-python",
   "name": "python",
   "nbconvert_exporter": "python",
   "pygments_lexer": "ipython3",
   "version": "3.13.1"
  }
 },
 "nbformat": 4,
 "nbformat_minor": 5
}
