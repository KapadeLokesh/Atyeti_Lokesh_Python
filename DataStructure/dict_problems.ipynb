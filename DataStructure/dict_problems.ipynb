{
 "cells": [
  {
   "cell_type": "markdown",
   "id": "5bb5cea8",
   "metadata": {},
   "source": [
    "1. Python program to create a new dictionary by extracting the keys from a given dictionary."
   ]
  },
  {
   "cell_type": "code",
   "execution_count": 1,
   "id": "ef55036a",
   "metadata": {},
   "outputs": [
    {
     "name": "stdout",
     "output_type": "stream",
     "text": [
      "{'two': 22, 'five': 55}\n"
     ]
    }
   ],
   "source": [
    "d1 = {\"one\":11, \"two\":22, \"three\":33, \"four\":44, \"five\":55}\n",
    "keys = ['two','five']\n",
    "d2 = {}\n",
    "for k in keys:\n",
    "    d2[k]=d1[k]\n",
    "print(d2)"
   ]
  },
  {
   "cell_type": "markdown",
   "id": "eb20e018",
   "metadata": {},
   "source": [
    "2. Python program to convert a dictionary to list of (k,v) tuples."
   ]
  },
  {
   "cell_type": "code",
   "execution_count": 4,
   "id": "1a4b3d93",
   "metadata": {},
   "outputs": [
    {
     "name": "stdout",
     "output_type": "stream",
     "text": [
      "[('one', 11), ('two', 22), ('three', 33), ('four', 44), ('five', 55)]\n",
      "{'one': 11, 'two': 22, 'three': 33, 'four': 44, 'five': 55}\n"
     ]
    }
   ],
   "source": [
    "d1 = {\"one\":11, \"two\":22, \"three\":33, \"four\":44, \"five\":55}\n",
    "L1 = list(d1.items())\n",
    "print(L1)\n",
    "\n",
    "L2 = dict(L1)\n",
    "print(L2)"
   ]
  },
  {
   "cell_type": "markdown",
   "id": "09b521a0",
   "metadata": {},
   "source": [
    "3. Python program to remove keys with same values in a dictionary."
   ]
  },
  {
   "cell_type": "code",
   "execution_count": null,
   "id": "be068a9f",
   "metadata": {},
   "outputs": [
    {
     "name": "stdout",
     "output_type": "stream",
     "text": [
      "Dict with unique value: {'three': 3, 'four': 44}\n"
     ]
    }
   ],
   "source": [
    "d1 = {\"one\":\"eleven\", \"2\":2, \"three\":3, \"11\":\"eleven\", \"four\":44, \"two\":2}\n",
    "\n",
    "vals = list(d1.values())\n",
    "uniqueVals = [v for v in vals if vals.count(v)== 1]\n",
    "d2 = {}\n",
    "for k,v in d1.items():\n",
    "    if v in uniqueVals:\n",
    "        d = {k:v}\n",
    "        d2.update(d)\n",
    "print(\"Dict with unique value:\",d2)"
   ]
  },
  {
   "cell_type": "markdown",
   "id": "5b7aa3fc",
   "metadata": {},
   "source": [
    "4. Python program to sort list of dictionaries by values."
   ]
  },
  {
   "cell_type": "code",
   "execution_count": null,
   "id": "be08da6c",
   "metadata": {},
   "outputs": [
    {
     "name": "stdout",
     "output_type": "stream",
     "text": [
      "{'five': 1, 'two': 2, 'three': 3, 'four': 6, 'six': 8, 'one': 11}\n"
     ]
    }
   ],
   "source": [
    "d1 = {\"one\":11, \"two\":2, \"three\":3, \"four\":6, \"five\":1, \"six\":8}\n",
    "sorted_dict = dict(sorted(d1.items(),key=lambda x: x[1]))\n",
    "print(sorted_dict)"
   ]
  },
  {
   "cell_type": "code",
   "execution_count": 18,
   "id": "08866ecd",
   "metadata": {},
   "outputs": [
    {
     "name": "stdout",
     "output_type": "stream",
     "text": [
      "[{'name': 'Bob', 'age': 17}, {'name': 'Floki', 'age': 19}, {'name': 'Alice', 'age': 23}, {'name': 'Luffy', 'age': 25}, {'name': 'Eve', 'age': 31}]\n"
     ]
    }
   ],
   "source": [
    "data = [{'name': 'Alice', 'age': 23}, {'name': 'Bob', 'age': 17}, {'name': 'Eve', 'age': 31}, {'name': 'Luffy', 'age': 25}, {'name': 'Floki', 'age': 19}]\n",
    "sorted_dict = sorted(data,key=lambda x:x['age'])\n",
    "print(sorted_dict)"
   ]
  },
  {
   "cell_type": "markdown",
   "id": "685c2aab",
   "metadata": {},
   "source": [
    "5.  Extract Dictionary with Only Non-Numeric Values."
   ]
  },
  {
   "cell_type": "code",
   "execution_count": 1,
   "id": "da680b70",
   "metadata": {},
   "outputs": [
    {
     "name": "stdout",
     "output_type": "stream",
     "text": [
      "{'a': 'hello', 'c': 'world', 'e': [1, 2], 'f': 'yes'}\n"
     ]
    }
   ],
   "source": [
    "data = {'a': 'hello', 'b': 42, 'c': 'world', 'd': 3.14, 'e': [1, 2], 'f': 'yes'}\n",
    "\n",
    "new_dict = {}\n",
    "for k,v in data.items():\n",
    "    if not isinstance(v,(int,float)):\n",
    "        new_dict[k] = v\n",
    "\n",
    "print(new_dict)"
   ]
  },
  {
   "cell_type": "markdown",
   "id": "d856b34d",
   "metadata": {},
   "source": [
    "6. Merge Two Dictionaries."
   ]
  },
  {
   "cell_type": "code",
   "execution_count": 4,
   "id": "064d73cb",
   "metadata": {},
   "outputs": [
    {
     "name": "stdout",
     "output_type": "stream",
     "text": [
      "{'a': 1, 'b': 3, 'c': 4}\n"
     ]
    }
   ],
   "source": [
    "dict1 = {'a': 1, 'b': 2}\n",
    "dict2 = {'b': 3, 'c': 4}\n",
    "\n",
    "merged_dict = {}\n",
    "\n",
    "for k,v in dict1.items():\n",
    "    merged_dict[k] = v\n",
    "\n",
    "for k,v in dict2.items():\n",
    "    merged_dict[k] = v\n",
    "\n",
    "print(merged_dict)"
   ]
  },
  {
   "cell_type": "code",
   "execution_count": 3,
   "id": "11efc39a",
   "metadata": {},
   "outputs": [
    {
     "name": "stdout",
     "output_type": "stream",
     "text": [
      "{'a': 1, 'b': 3, 'c': 4}\n"
     ]
    }
   ],
   "source": [
    "dict1 = {'a': 1, 'b': 2}\n",
    "dict2 = {'b': 3, 'c': 4}\n",
    "\n",
    "merged_dict = {**dict1, **dict2}\n",
    "\n",
    "print(merged_dict)"
   ]
  },
  {
   "cell_type": "code",
   "execution_count": null,
   "id": "669943d0",
   "metadata": {},
   "outputs": [],
   "source": []
  }
 ],
 "metadata": {
  "kernelspec": {
   "display_name": "Python 3",
   "language": "python",
   "name": "python3"
  },
  "language_info": {
   "codemirror_mode": {
    "name": "ipython",
    "version": 3
   },
   "file_extension": ".py",
   "mimetype": "text/x-python",
   "name": "python",
   "nbconvert_exporter": "python",
   "pygments_lexer": "ipython3",
   "version": "3.13.1"
  }
 },
 "nbformat": 4,
 "nbformat_minor": 5
}
