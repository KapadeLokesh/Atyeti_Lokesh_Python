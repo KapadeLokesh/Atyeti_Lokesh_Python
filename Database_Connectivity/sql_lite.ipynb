{
 "cells": [
  {
   "cell_type": "code",
   "execution_count": 1,
   "id": "08ff6d9b",
   "metadata": {},
   "outputs": [
    {
     "name": "stdout",
     "output_type": "stream",
     "text": [
      "All Bank Accounts:\n",
      "ID: 1, Name: Alice, Balance: 1000.0\n",
      "ID: 2, Name: Bob, Balance: 500.0\n",
      "\n",
      "Updated Bob's Balance: 700.0\n"
     ]
    }
   ],
   "source": [
    "import sqlite3\n",
    "\n",
    "# 1. Connect to SQLite database (creates file if it doesn't exist)\n",
    "conn = sqlite3.connect('bank.db')  # Uses a file-based DB\n",
    "cursor = conn.cursor()\n",
    "\n",
    "# 2. Create table\n",
    "cursor.execute('''\n",
    "    CREATE TABLE IF NOT EXISTS bank_accounts (\n",
    "        id INTEGER PRIMARY KEY AUTOINCREMENT,\n",
    "        name TEXT NOT NULL,\n",
    "        balance REAL NOT NULL\n",
    "    )\n",
    "''')\n",
    "\n",
    "# 3. Insert data\n",
    "cursor.execute('INSERT INTO bank_accounts (name, balance) VALUES (?, ?)', ('Alice', 1000.0))\n",
    "cursor.execute('INSERT INTO bank_accounts (name, balance) VALUES (?, ?)', ('Bob', 500.0))\n",
    "\n",
    "# 4. Commit changes\n",
    "conn.commit()\n",
    "\n",
    "# 5. Query and display all accounts\n",
    "cursor.execute('SELECT * FROM bank_accounts')\n",
    "accounts = cursor.fetchall()\n",
    "\n",
    "print(\"All Bank Accounts:\")\n",
    "for acc in accounts:\n",
    "    print(f\"ID: {acc[0]}, Name: {acc[1]}, Balance: {acc[2]}\")\n",
    "\n",
    "# 6. Update balance (e.g., deposit to Bob's account)\n",
    "cursor.execute('UPDATE bank_accounts SET balance = balance + ? WHERE name = ?', (200.0, 'Bob'))\n",
    "conn.commit()\n",
    "\n",
    "# 7. Check updated balance\n",
    "cursor.execute('SELECT name, balance FROM bank_accounts WHERE name = ?', ('Bob',))\n",
    "bob = cursor.fetchone()\n",
    "print(f\"\\nUpdated Bob's Balance: {bob[1]}\")\n",
    "\n",
    "# 8. Close connection\n",
    "conn.close()\n"
   ]
  },
  {
   "cell_type": "code",
   "execution_count": null,
   "id": "2da6b3d2",
   "metadata": {},
   "outputs": [],
   "source": []
  }
 ],
 "metadata": {
  "kernelspec": {
   "display_name": "pyspark_env",
   "language": "python",
   "name": "python3"
  },
  "language_info": {
   "codemirror_mode": {
    "name": "ipython",
    "version": 3
   },
   "file_extension": ".py",
   "mimetype": "text/x-python",
   "name": "python",
   "nbconvert_exporter": "python",
   "pygments_lexer": "ipython3",
   "version": "3.8.20"
  }
 },
 "nbformat": 4,
 "nbformat_minor": 5
}
