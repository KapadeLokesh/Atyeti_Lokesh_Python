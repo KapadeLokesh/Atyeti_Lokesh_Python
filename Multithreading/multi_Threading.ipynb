{
 "cells": [
  {
   "cell_type": "markdown",
   "id": "864007f4",
   "metadata": {},
   "source": [
    "MULTITHREADING:"
   ]
  },
  {
   "cell_type": "markdown",
   "id": "41db3db0",
   "metadata": {},
   "source": [
    "1. Write a program to create and start a thread that prints numbers from 1 to 10.\n"
   ]
  },
  {
   "cell_type": "code",
   "execution_count": 37,
   "id": "e9e4a6f8",
   "metadata": {},
   "outputs": [
    {
     "name": "stdout",
     "output_type": "stream",
     "text": [
      "1 2 3 4 5 6 7 8 9 10 "
     ]
    }
   ],
   "source": [
    "import threading\n",
    "\n",
    "def create_thread():\n",
    "    for i in range(1,11):\n",
    "        print(i,end=\" \")\n",
    "\n",
    "thread1 = threading.Thread(target=create_thread)\n",
    "thread1.start()\n",
    "thread1.join()\n"
   ]
  },
  {
   "cell_type": "markdown",
   "id": "4dd85587",
   "metadata": {},
   "source": [
    "2. Write a program to create two threads: one to print even numbers and another to print odd numbers."
   ]
  },
  {
   "cell_type": "code",
   "execution_count": 15,
   "id": "5bb671fc",
   "metadata": {},
   "outputs": [
    {
     "name": "stdout",
     "output_type": "stream",
     "text": [
      "Even: 2\n",
      "Even: 4\n",
      "Even: 6\n",
      "Even: 8\n",
      "Even: 10\n",
      "Odd: 1\n",
      "Odd: 3\n",
      "Odd: 5\n",
      "Odd: 7\n",
      "Odd: 9\n"
     ]
    }
   ],
   "source": [
    "from threading import *\n",
    "\n",
    "def even_odd():\n",
    "    for i in range(1, 11):\n",
    "        if current_thread().name == \"even\" and i % 2 == 0:\n",
    "            print(\"Even:\", i)\n",
    "        elif current_thread().name == \"odd\" and i % 2 != 0:\n",
    "            print(\"Odd:\", i)\n",
    "\n",
    "even_thread = Thread(target=even_odd, name=\"even\")\n",
    "odd_thread = Thread(target=even_odd, name=\"odd\")\n",
    "\n",
    "even_thread.start()\n",
    "odd_thread.start()\n",
    "\n",
    "even_thread.join()\n",
    "odd_thread.join()"
   ]
  },
  {
   "cell_type": "markdown",
   "id": "b80df7dc",
   "metadata": {},
   "source": [
    "3. Write a program to demonstrate the use of `Lock` to synchronize threads."
   ]
  },
  {
   "cell_type": "code",
   "execution_count": 36,
   "id": "98e034a9",
   "metadata": {},
   "outputs": [
    {
     "name": "stdout",
     "output_type": "stream",
     "text": [
      "Even: 2\n",
      "Odd: 1\n",
      "Even: 4\n",
      "Odd: 3\n",
      "Odd: 5\n",
      "Odd: 7\n",
      "Odd: 9\n",
      "Even: 6\n",
      "Even: 8\n",
      "Even: 10\n"
     ]
    }
   ],
   "source": [
    "from threading import *\n",
    "import time\n",
    "\n",
    "lock = threading.Lock()\n",
    "\n",
    "def even_odd():\n",
    "    for i in range(1, 11):\n",
    "        lock.acquire(2)\n",
    "        if current_thread().name == \"even\" and i % 2 == 0:\n",
    "            time.sleep(2)\n",
    "            print(\"Even:\", i)\n",
    "            \n",
    "        elif current_thread().name == \"odd\" and i % 2 != 0:\n",
    "            print(\"Odd:\", i)\n",
    "        lock.release()\n",
    "\n",
    "even_thread = Thread(target=even_odd, name=\"even\")\n",
    "odd_thread = Thread(target=even_odd, name=\"odd\")\n",
    "\n",
    "even_thread.start()\n",
    "odd_thread.start()\n",
    "\n",
    "even_thread.join()\n",
    "odd_thread.join()"
   ]
  },
  {
   "cell_type": "code",
   "execution_count": 35,
   "id": "bac3d849",
   "metadata": {},
   "outputs": [
    {
     "name": "stdout",
     "output_type": "stream",
     "text": [
      "0This is Main thread\n",
      "Is Alive:  True\n"
     ]
    },
    {
     "name": "stderr",
     "output_type": "stream",
     "text": [
      "C:\\Users\\LokeshKapde\\AppData\\Local\\Temp\\ipykernel_32368\\1390793338.py:9: DeprecationWarning: setDaemon() is deprecated, set the daemon attribute instead\n",
      "  thread1.setDaemon(True)\n"
     ]
    },
    {
     "name": "stdout",
     "output_type": "stream",
     "text": [
      " This is thread1.\n",
      "1 This is thread1.\n"
     ]
    }
   ],
   "source": [
    "import threading\n",
    "import time\n",
    "\n",
    "def create_thread():\n",
    "    for i in range(2):\n",
    "        print(i,\"This is thread1.\")\n",
    "        \n",
    "thread1 = threading.Thread(target=create_thread)\n",
    "thread1.setDaemon(True)\n",
    "thread1.start()\n",
    "print('This is Main thread')\n",
    "\n",
    "print(\"Is Alive: \",current_thread().is_alive())\n",
    "\n"
   ]
  },
  {
   "cell_type": "markdown",
   "id": "b8f3892a",
   "metadata": {},
   "source": [
    "\n",
    "1. Write a program to simulate a producer-consumer problem using multithreading. Implement synchronization using locks or semaphores.\n",
    " 2. Implement a program to calculate the sum of elements in a large list using multiple threads. Divide the list into smaller chunks and use threads to compute the sum of each chunk."
   ]
  },
  {
   "cell_type": "code",
   "execution_count": null,
   "id": "b61bb30b",
   "metadata": {},
   "outputs": [],
   "source": []
  }
 ],
 "metadata": {
  "kernelspec": {
   "display_name": "Python 3",
   "language": "python",
   "name": "python3"
  },
  "language_info": {
   "codemirror_mode": {
    "name": "ipython",
    "version": 3
   },
   "file_extension": ".py",
   "mimetype": "text/x-python",
   "name": "python",
   "nbconvert_exporter": "python",
   "pygments_lexer": "ipython3",
   "version": "3.13.1"
  }
 },
 "nbformat": 4,
 "nbformat_minor": 5
}
