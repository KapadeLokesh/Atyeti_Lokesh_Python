{
 "cells": [
  {
   "cell_type": "markdown",
   "id": "3fff4314",
   "metadata": {},
   "source": [
    "**Math: math module for calculations.**"
   ]
  },
  {
   "cell_type": "code",
   "execution_count": 4,
   "id": "27321c1b",
   "metadata": {},
   "outputs": [
    {
     "name": "stdout",
     "output_type": "stream",
     "text": [
      "Round up to nearest integer:  5\n",
      "Round up to nearest integer:  4\n",
      "Remove fraction:  4\n",
      "Absolute value as float:  4.1\n",
      "Factorial:  24\n"
     ]
    }
   ],
   "source": [
    "import math\n",
    "\n",
    "# Arithmetic Function:\n",
    "print(\"Round up to nearest integer: \",math.ceil(4.1))\n",
    "print(\"Round up to nearest integer: \",math.floor(4.8))\n",
    "print(\"Remove fraction: \",math.trunc(4.312))\n",
    "print(\"Absolute value as float: \",math.fabs(-4.1))\n",
    "print(\"Factorial: \",math.factorial(4))"
   ]
  },
  {
   "cell_type": "code",
   "execution_count": 5,
   "id": "ef025fe1",
   "metadata": {},
   "outputs": [
    {
     "name": "stdout",
     "output_type": "stream",
     "text": [
      "X raised to power of Y : 8.0\n",
      "Square root : 5.0\n",
      "Log value : 2.995732273553991\n",
      "Log base 10 : 1.4771212547196624\n",
      "Log base 2 : 3.321928094887362\n"
     ]
    }
   ],
   "source": [
    "# Power and root functions:\n",
    "print(\"X raised to power of Y :\",math.pow(2,3))\n",
    "print(\"Square root :\",math.sqrt(25))\n",
    "print(\"Log value :\",math.log(20))\n",
    "print(\"Log base 10 :\",math.log10(30))\n",
    "print(\"Log base 2 :\",math.log2(10))"
   ]
  },
  {
   "cell_type": "code",
   "execution_count": 6,
   "id": "6138b73a",
   "metadata": {},
   "outputs": [
    {
     "name": "stdout",
     "output_type": "stream",
     "text": [
      "Cosine of 0: 1.0\n",
      "Tangent of π/4: 0.9999999999999999\n",
      "Arcsin(1): 1.5707963267948966\n",
      "Arccos(1): 0.0\n",
      "Arctan(1): 0.7853981633974483\n"
     ]
    }
   ],
   "source": [
    "# Trignometric Functions:\n",
    "print(\"Cosine of 0:\", math.cos(0))                  # 1.0\n",
    "print(\"Tangent of π/4:\", math.tan(math.pi / 4))     # 1.0\n",
    "print(\"Arcsin(1):\", math.asin(1))                   # π/2\n",
    "print(\"Arccos(1):\", math.acos(1))                   # 0\n",
    "print(\"Arctan(1):\", math.atan(1))"
   ]
  },
  {
   "cell_type": "code",
   "execution_count": 7,
   "id": "4b6cd556",
   "metadata": {},
   "outputs": [
    {
     "name": "stdout",
     "output_type": "stream",
     "text": [
      "Pi: 3.141592653589793\n",
      "Euler's number (e): 2.718281828459045\n",
      "Infinity: inf\n",
      "Not a Number (NaN): nan\n"
     ]
    }
   ],
   "source": [
    "# Constant:\n",
    "print(\"Pi:\", math.pi)\n",
    "print(\"Euler's number (e):\", math.e)\n",
    "print(\"Infinity:\", math.inf)\n",
    "print(\"Not a Number (NaN):\", math.nan)"
   ]
  },
  {
   "cell_type": "markdown",
   "id": "919f0060",
   "metadata": {},
   "source": [
    "**Datetime: Handling dates and times.**"
   ]
  },
  {
   "cell_type": "code",
   "execution_count": null,
   "id": "9058f321",
   "metadata": {},
   "outputs": [],
   "source": [
    "import datetime\n",
    "from datetime import date, time, timedelta\n",
    "\n"
   ]
  },
  {
   "cell_type": "code",
   "execution_count": null,
   "id": "05962d31",
   "metadata": {},
   "outputs": [],
   "source": []
  },
  {
   "cell_type": "code",
   "execution_count": null,
   "metadata": {},
   "outputs": [],
   "source": []
  }
 ],
 "metadata": {
  "kernelspec": {
   "display_name": "Python 3",
   "language": "python",
   "name": "python3"
  },
  "language_info": {
   "codemirror_mode": {
    "name": "ipython",
    "version": 3
   },
   "file_extension": ".py",
   "mimetype": "text/x-python",
   "name": "python",
   "nbconvert_exporter": "python",
   "pygments_lexer": "ipython3",
   "version": "3.13.1"
  }
 },
 "nbformat": 4,
 "nbformat_minor": 5
}
