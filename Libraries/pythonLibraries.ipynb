{
 "cells": [
  {
   "cell_type": "markdown",
   "id": "3fff4314",
   "metadata": {},
   "source": [
    "**Math: math module for calculations.**"
   ]
  },
  {
   "cell_type": "code",
   "execution_count": null,
   "id": "27321c1b",
   "metadata": {},
   "outputs": [],
   "source": [
    "import math\n",
    "\n",
    "# Arithmetic Function:\n",
    "print(\"Round up to nearest integer: \",math.ceil(4.1))\n",
    "print(\"Round up to nearest integer: \",math.floor(4.8))\n",
    "print(\"Remove fraction: \",math.trunc(4.312))\n",
    "print(\"Absolute value as float: \",math.fabs(-4.1))\n",
    "print(\"Factorial: \",math.factorial(4))"
   ]
  },
  {
   "cell_type": "code",
   "execution_count": null,
   "id": "ef025fe1",
   "metadata": {},
   "outputs": [],
   "source": [
    "# Power and root functions:\n",
    "print(\"X raised to power of Y :\",math.pow(2,3))\n",
    "print(\"Square root :\",math.sqrt(25))\n",
    "print(\"Log value :\",math.log(20))\n",
    "print(\"Log base 10 :\",math.log10(30))\n",
    "print(\"Log base 2 :\",math.log2(10))"
   ]
  },
  {
   "cell_type": "code",
   "execution_count": null,
   "id": "6138b73a",
   "metadata": {},
   "outputs": [],
   "source": [
    "# Trignometric Functions:\n",
    "print(\"Cosine of 0:\", math.cos(0))                  # 1.0\n",
    "print(\"Tangent of π/4:\", math.tan(math.pi / 4))     # 1.0\n",
    "print(\"Arcsin(1):\", math.asin(1))                   # π/2\n",
    "print(\"Arccos(1):\", math.acos(1))                   # 0\n",
    "print(\"Arctan(1):\", math.atan(1))"
   ]
  },
  {
   "cell_type": "code",
   "execution_count": null,
   "id": "4b6cd556",
   "metadata": {},
   "outputs": [],
   "source": [
    "# Constant:\n",
    "print(\"Pi:\", math.pi)\n",
    "print(\"Euler's number (e):\", math.e)\n",
    "print(\"Infinity:\", math.inf)\n",
    "print(\"Not a Number (NaN):\", math.nan)"
   ]
  },
  {
   "cell_type": "markdown",
   "id": "919f0060",
   "metadata": {},
   "source": [
    "**Datetime: Handling dates and times.**"
   ]
  },
  {
   "cell_type": "code",
   "execution_count": null,
   "id": "9058f321",
   "metadata": {},
   "outputs": [],
   "source": [
    "import datetime\n",
    "from datetime import date, time, datetime, timedelta\n",
    "\n",
    "now = datetime.now()\n",
    "\n",
    "# Current date and time:\n",
    "print(\"Now: \",now)\n",
    "print(\"Date: \",now.date())\n",
    "print(\"Time: \",now.time())\n",
    "\n",
    "print(\"Date: \",date(2025,1,31))\n",
    "print(\"Time: \",time(1,23))\n"
   ]
  },
  {
   "cell_type": "code",
   "execution_count": null,
   "id": "05962d31",
   "metadata": {},
   "outputs": [],
   "source": [
    "dt = datetime(2025,5,14,9,40)\n",
    "print(\"Custome date-tiime: \",dt)\n",
    "today = date.today()\n",
    "print(\"Today: \",date.today())\n",
    "print(\"Yesterday: \",today - timedelta(days=1))\n",
    "print(\"Tomorrow: \",today + timedelta(days=1))\n",
    "\n",
    "birthdate = date(1997,11,12)\n",
    "age = today.year - birthdate.year\n",
    "print(\"Age: \",age)"
   ]
  },
  {
   "cell_type": "markdown",
   "id": "3129661c",
   "metadata": {},
   "source": [
    "**Random: Random number generation.**"
   ]
  },
  {
   "cell_type": "code",
   "execution_count": null,
   "metadata": {},
   "outputs": [],
   "source": [
    "import random\n",
    "\n",
    "a = [1,2,3,4,5,6,7]\n",
    "print(\"Pick random no: \",random.choice(a))\n",
    "\n",
    "r1 = random.randint(2,8)\n",
    "print(\"Random int in specified range: \",r1)\n",
    "\n",
    "print(\"Generate random float number: \",random.random())\n",
    "\n",
    "print(\"Random sequence: \",random.sample(a,5))\n",
    "\n",
    "print(\"Shuffel randomly: \",random.shuffle(a))\n",
    "\n",
    "print(\"Seed() - same result for every run with same seed.\")\n",
    "random.seed(5)\n",
    "print(random.randint(1, 10))  # same result\n",
    "\n",
    "random.seed(5)\n",
    "print(random.randint(1, 10))  # same result\n",
    "\n",
    "suits = ['Hearts', 'Diamonds', 'Clubs', 'Spades']\n",
    "ranks = ['2', '3', '4', '5', '6', '7', '8', '9', '10', 'J', 'Q', 'K', 'A']\n",
    "deck = [(rank, suit) for suit in suits for rank in ranks]\n",
    "\n",
    "random.shuffle(deck)\n",
    "hand = deck[:5]\n",
    "print(\"Draw 5 random cards: \",hand)"
   ]
  },
  {
   "cell_type": "markdown",
   "id": "bcf66062",
   "metadata": {},
   "source": [
    "**JSON: Parsing and writing JSON data.**"
   ]
  },
  {
   "cell_type": "code",
   "execution_count": null,
   "id": "e8047d2b",
   "metadata": {},
   "outputs": [
    {
     "name": "stdout",
     "output_type": "stream",
     "text": [
      "Loki\n",
      "{\"name\": \"Baki\", \"age\": 31}\n"
     ]
    }
   ],
   "source": [
    "import json\n",
    "\n",
    "# read json:\n",
    "json_str = '{\"name\":\"Loki\", \"age\":25}'\n",
    "data = json.loads(json_str)\n",
    "print(data['name'])\n",
    "\n",
    "# write to json string:\n",
    "person = {\"name\":\"Baki\", \"age\":31}\n",
    "json_str = json.dumps(person)\n",
    "print(json_str)"
   ]
  },
  {
   "cell_type": "code",
   "execution_count": 7,
   "id": "bf5f27f4",
   "metadata": {},
   "outputs": [
    {
     "name": "stdout",
     "output_type": "stream",
     "text": [
      "Alice Johnson\n",
      "Bob Smith\n",
      "Charlie Lee\n"
     ]
    }
   ],
   "source": [
    "# read json from a file:\n",
    "\n",
    "with open('data.json', 'r') as f:\n",
    "    data = json.load(f)\n",
    "    for i in data['users']:\n",
    "        print(i['name'])"
   ]
  },
  {
   "cell_type": "code",
   "execution_count": 10,
   "id": "589a8b88",
   "metadata": {},
   "outputs": [],
   "source": [
    "# write to json file:\n",
    "\n",
    "with open('output.json','w') as f:\n",
    "    json.dump(data,f,indent=4)"
   ]
  },
  {
   "cell_type": "markdown",
   "id": "c6299c29",
   "metadata": {},
   "source": [
    "**CSV: Reading and writing CSV files.**"
   ]
  },
  {
   "cell_type": "code",
   "execution_count": null,
   "id": "70606e47",
   "metadata": {},
   "outputs": [
    {
     "name": "stdout",
     "output_type": "stream",
     "text": [
      "['ID', 'FirstName', 'LastName', 'Department', 'Phone', 'Address', 'Salary']\n",
      "['1', 'Luke', 'Phillip', 'Sales', '5564567890', '1st Address, Miami', '25000']\n",
      "['2', 'Jack', 'Darren', 'IT', '3444567891', '2nd Address, Chicago', '33600']\n",
      "['3', 'Ken', 'Wood', 'IT', '5524567892', '3rd Address, LA', '41150']\n",
      "['4', 'John', 'Wilson', 'Marketing', '1124567893', '4th Address, Chicago', '50000']\n",
      "['5', 'Emily', 'Larson', 'Marketing', '1234567894', '5th Address, Miami', '48700']\n",
      "['6', 'Anna', 'Sullivan', 'Sales', '3324567895', '6th Address, Miami', '29000']\n",
      "['7', 'Richard', 'Smith', 'Logistics', '6894567896', '7th Address, New York', '66000']\n",
      "['8', 'Ronnie', 'Moore', 'Sales', '8974567897', '8th Address, New York', '87000']\n",
      "['9', 'Andrew', 'Drake', 'IT', '6654567898', '9th Address, Las Vegas', '66900']\n",
      "['10', 'Wayne', 'Barker', 'Logistics', '9884567899', '10th Address, Las Vegas', '89000']\n",
      "['11', 'Gina', 'Baker', 'Logistics', '1154567900', '11th Address, Chicago', '31800']\n",
      "['12', 'Andy', 'Williams', 'HR', '1094567901', '12th Address, Chicago', '65500']\n",
      "['13', 'Jack', 'Wood', 'Logistics', '2044567902', '13th Address, New York', '90300']\n",
      "['14', 'Jane', 'Phills', 'HR', '1664567903', '14th Address, New York', '77700']\n",
      "['15', 'Ron', 'Johnson', 'Sales', '1664567904', '15th Address, New York', '26250']\n",
      "['16', 'Jackie', 'Stanley', 'Sales', '6894567905', '16th Address, Las Vegas', '38400']\n",
      "['17', 'Charles', 'Meyer', 'Marketing', '1154567906', '17th Address, Las Vegas', '47000']\n",
      "['18', 'Charlie', 'Smith', 'Marketing', '9884567907', '18th Address, Las Vegas', '49000']\n",
      "['19', 'Wayne', 'Andrews', 'Sales', '3324567908', '19th Address, LA', '52000']\n",
      "['20', 'Adrian', 'Harrison', 'IT', '1234567909', '20th Address, LA', '21160']\n"
     ]
    }
   ],
   "source": [
    "import csv\n",
    "\n",
    "# read csv as file:\n",
    "with open('Employees.csv', newline='') as f:\n",
    "    reader = csv.reader(f)\n",
    "    for row in reader:\n",
    "        print(row)"
   ]
  },
  {
   "cell_type": "code",
   "execution_count": 14,
   "id": "14610bea",
   "metadata": {},
   "outputs": [
    {
     "name": "stdout",
     "output_type": "stream",
     "text": [
      "{'ID': '1', 'FirstName': 'Luke', 'LastName': 'Phillip', 'Department': 'Sales', 'Phone': '5564567890', 'Address': '1st Address, Miami', 'Salary': '25000'}\n",
      "{'ID': '2', 'FirstName': 'Jack', 'LastName': 'Darren', 'Department': 'IT', 'Phone': '3444567891', 'Address': '2nd Address, Chicago', 'Salary': '33600'}\n",
      "{'ID': '3', 'FirstName': 'Ken', 'LastName': 'Wood', 'Department': 'IT', 'Phone': '5524567892', 'Address': '3rd Address, LA', 'Salary': '41150'}\n",
      "{'ID': '4', 'FirstName': 'John', 'LastName': 'Wilson', 'Department': 'Marketing', 'Phone': '1124567893', 'Address': '4th Address, Chicago', 'Salary': '50000'}\n",
      "{'ID': '5', 'FirstName': 'Emily', 'LastName': 'Larson', 'Department': 'Marketing', 'Phone': '1234567894', 'Address': '5th Address, Miami', 'Salary': '48700'}\n",
      "{'ID': '6', 'FirstName': 'Anna', 'LastName': 'Sullivan', 'Department': 'Sales', 'Phone': '3324567895', 'Address': '6th Address, Miami', 'Salary': '29000'}\n",
      "{'ID': '7', 'FirstName': 'Richard', 'LastName': 'Smith', 'Department': 'Logistics', 'Phone': '6894567896', 'Address': '7th Address, New York', 'Salary': '66000'}\n",
      "{'ID': '8', 'FirstName': 'Ronnie', 'LastName': 'Moore', 'Department': 'Sales', 'Phone': '8974567897', 'Address': '8th Address, New York', 'Salary': '87000'}\n",
      "{'ID': '9', 'FirstName': 'Andrew', 'LastName': 'Drake', 'Department': 'IT', 'Phone': '6654567898', 'Address': '9th Address, Las Vegas', 'Salary': '66900'}\n",
      "{'ID': '10', 'FirstName': 'Wayne', 'LastName': 'Barker', 'Department': 'Logistics', 'Phone': '9884567899', 'Address': '10th Address, Las Vegas', 'Salary': '89000'}\n",
      "{'ID': '11', 'FirstName': 'Gina', 'LastName': 'Baker', 'Department': 'Logistics', 'Phone': '1154567900', 'Address': '11th Address, Chicago', 'Salary': '31800'}\n",
      "{'ID': '12', 'FirstName': 'Andy', 'LastName': 'Williams', 'Department': 'HR', 'Phone': '1094567901', 'Address': '12th Address, Chicago', 'Salary': '65500'}\n",
      "{'ID': '13', 'FirstName': 'Jack', 'LastName': 'Wood', 'Department': 'Logistics', 'Phone': '2044567902', 'Address': '13th Address, New York', 'Salary': '90300'}\n",
      "{'ID': '14', 'FirstName': 'Jane', 'LastName': 'Phills', 'Department': 'HR', 'Phone': '1664567903', 'Address': '14th Address, New York', 'Salary': '77700'}\n",
      "{'ID': '15', 'FirstName': 'Ron', 'LastName': 'Johnson', 'Department': 'Sales', 'Phone': '1664567904', 'Address': '15th Address, New York', 'Salary': '26250'}\n",
      "{'ID': '16', 'FirstName': 'Jackie', 'LastName': 'Stanley', 'Department': 'Sales', 'Phone': '6894567905', 'Address': '16th Address, Las Vegas', 'Salary': '38400'}\n",
      "{'ID': '17', 'FirstName': 'Charles', 'LastName': 'Meyer', 'Department': 'Marketing', 'Phone': '1154567906', 'Address': '17th Address, Las Vegas', 'Salary': '47000'}\n",
      "{'ID': '18', 'FirstName': 'Charlie', 'LastName': 'Smith', 'Department': 'Marketing', 'Phone': '9884567907', 'Address': '18th Address, Las Vegas', 'Salary': '49000'}\n",
      "{'ID': '19', 'FirstName': 'Wayne', 'LastName': 'Andrews', 'Department': 'Sales', 'Phone': '3324567908', 'Address': '19th Address, LA', 'Salary': '52000'}\n",
      "{'ID': '20', 'FirstName': 'Adrian', 'LastName': 'Harrison', 'Department': 'IT', 'Phone': '1234567909', 'Address': '20th Address, LA', 'Salary': '21160'}\n"
     ]
    }
   ],
   "source": [
    "# read csv as dictionary:\n",
    "\n",
    "with open('Employees.csv', newline='') as f:\n",
    "    reader = csv.DictReader(f)\n",
    "    for row in reader:\n",
    "        print(row)"
   ]
  },
  {
   "cell_type": "code",
   "execution_count": 15,
   "id": "96f843d2",
   "metadata": {},
   "outputs": [],
   "source": [
    "# write to csv file:\n",
    "with open('output.csv', 'w', newline='') as f:\n",
    "    writer = csv.writer(f)\n",
    "    writer.writerow(['name', 'age'])\n",
    "    writer.writerow(['Alice', 30])\n",
    "    writer.writerow(['Luffy', 22])"
   ]
  },
  {
   "cell_type": "code",
   "execution_count": 17,
   "id": "3b5a8589",
   "metadata": {},
   "outputs": [],
   "source": [
    "# write to csv from dictionary:\n",
    "data = [{'ID': '21', 'FirstName': 'Adan', 'LastName': 'Harron', 'Department': 'IT', 'Phone': '1234567900', 'Address': '22nd Address, LA', 'Salary': '31160'}]\n",
    "with open('Employees.csv', 'w', newline='') as f:\n",
    "    writer = csv.DictWriter(f, fieldnames=['ID', 'FirstName', 'LastName', 'Department', 'Phone', 'Address', 'Salary'])\n",
    "    writer.writeheader()\n",
    "    writer.writerows(data)"
   ]
  },
  {
   "cell_type": "code",
   "execution_count": null,
   "id": "af3150b0",
   "metadata": {},
   "outputs": [],
   "source": []
  }
 ],
 "metadata": {
  "kernelspec": {
   "display_name": "pyspark_env",
   "language": "python",
   "name": "python3"
  },
  "language_info": {
   "codemirror_mode": {
    "name": "ipython",
    "version": 3
   },
   "file_extension": ".py",
   "mimetype": "text/x-python",
   "name": "python",
   "nbconvert_exporter": "python",
   "pygments_lexer": "ipython3",
   "version": "3.8.20"
  }
 },
 "nbformat": 4,
 "nbformat_minor": 5
}
