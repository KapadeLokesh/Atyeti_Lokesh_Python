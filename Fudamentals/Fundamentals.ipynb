{
 "cells": [
  {
   "cell_type": "markdown",
   "id": "24d866f2",
   "metadata": {},
   "source": [
    "**Variables & Data Types: Learn integers, floats, strings, booleans, and dynamic typing.**"
   ]
  },
  {
   "cell_type": "code",
   "execution_count": null,
   "id": "15c38103",
   "metadata": {},
   "outputs": [],
   "source": [
    "x = 5          # x is an integer\n",
    "name = \"Loki\"  # name is a string\n",
    "pi = 3.14159   # float\n",
    "is_done = True # Boolean"
   ]
  },
  {
   "cell_type": "code",
   "execution_count": null,
   "id": "7fb5325a",
   "metadata": {},
   "outputs": [],
   "source": [
    "# dynamic typing\n",
    "\n",
    "x = 10          # int\n",
    "x = 'Hello'     # now its string."
   ]
  },
  {
   "cell_type": "code",
   "execution_count": null,
   "metadata": {},
   "outputs": [
    {
     "name": "stdout",
     "output_type": "stream",
     "text": [
      "Orange\n",
      "Banana\n",
      "Cherry\n"
     ]
    }
   ],
   "source": [
    "# many value to multiple variables:\n",
    "x, y, z = \"Orange\", \"Banana\", \"Cherry\"\n",
    "print(x)\n",
    "print(y)\n",
    "print(z)"
   ]
  },
  {
   "cell_type": "code",
   "execution_count": 2,
   "metadata": {},
   "outputs": [
    {
     "name": "stdout",
     "output_type": "stream",
     "text": [
      "Python is fantastic\n",
      "Python is awesome\n"
     ]
    }
   ],
   "source": [
    "# global variables:\n",
    "x = \"awesome\"\n",
    "\n",
    "def myfunc():\n",
    "  x = \"fantastic\"\n",
    "  print(\"Python is \" + x)\n",
    "\n",
    "myfunc()\n",
    "\n",
    "print(\"Python is \" + x)"
   ]
  },
  {
   "cell_type": "markdown",
   "id": "0734c378",
   "metadata": {},
   "source": [
    "**Operators: Arithmetic, assignment, comparison, logical, bitwise.**\n"
   ]
  },
  {
   "cell_type": "code",
   "execution_count": 6,
   "id": "02f154ea",
   "metadata": {},
   "outputs": [
    {
     "name": "stdout",
     "output_type": "stream",
     "text": [
      "12\n",
      "8\n",
      "20\n",
      "5.0\n",
      "0\n",
      "100\n",
      "5\n"
     ]
    }
   ],
   "source": [
    "# Arithmetic operators:\n",
    "print(10 + 2)      # Addition\n",
    "print(10 - 2)      # Subtraction\n",
    "print(10 * 2)      # Multiplication\n",
    "print(10 / 2)      # Division\n",
    "print(10 % 2)      # Modulus\n",
    "print(10 ** 2)     # Exponentiation\n",
    "print(10 // 2)     # Floor division\n"
   ]
  },
  {
   "cell_type": "code",
   "execution_count": null,
   "id": "c948ada3",
   "metadata": {},
   "outputs": [
    {
     "name": "stdout",
     "output_type": "stream",
     "text": [
      "x += 2: 7\n",
      "x *= 3: 21\n",
      "x -= 1: 20\n",
      "x /= 2: 10.0\n"
     ]
    }
   ],
   "source": [
    "# Assignment Operators\n",
    "x = 5\n",
    "x += 2\n",
    "print(\"x += 2:\", x)\n",
    "x *= 3\n",
    "print(\"x *= 3:\", x)\n",
    "x -= 1\n",
    "print(\"x -= 1:\", x)\n",
    "x /= 2\n",
    "print(\"x /= 2:\", x)"
   ]
  },
  {
   "cell_type": "code",
   "execution_count": null,
   "id": "f34cdd00",
   "metadata": {},
   "outputs": [
    {
     "name": "stdout",
     "output_type": "stream",
     "text": [
      "a == b: False\n",
      "a != b: True\n",
      "a > b: True\n",
      "a < b: False\n",
      "a >= b: True\n",
      "a <= b: False\n",
      "\n"
     ]
    }
   ],
   "source": [
    "\n",
    "# Comparison Operators\n",
    "a,b = 10,3\n",
    "print(\"a == b:\", a == b)\n",
    "print(\"a != b:\", a != b)\n",
    "print(\"a > b:\", a > b)\n",
    "print(\"a < b:\", a < b)\n",
    "print(\"a >= b:\", a >= b)\n",
    "print(\"a <= b:\", a <= b)\n",
    "print()"
   ]
  },
  {
   "cell_type": "code",
   "execution_count": 15,
   "id": "ad6d6041",
   "metadata": {},
   "outputs": [
    {
     "name": "stdout",
     "output_type": "stream",
     "text": [
      "Logical Operators:\n",
      "p and q: False\n",
      "p or q: True\n",
      "not p: False\n"
     ]
    }
   ],
   "source": [
    "# Logical Operators\n",
    "p = True\n",
    "q = False\n",
    "\n",
    "print(\"Logical Operators:\")\n",
    "print(\"p and q:\", p and q)\n",
    "print(\"p or q:\", p or q)\n",
    "print(\"not p:\", not p)"
   ]
  },
  {
   "cell_type": "code",
   "execution_count": 17,
   "id": "9abed08a",
   "metadata": {},
   "outputs": [
    {
     "name": "stdout",
     "output_type": "stream",
     "text": [
      "a & b: 2\n",
      "a | b: 11\n",
      "a ^ b: 9\n",
      "~a: -11\n",
      "a << 1: 20\n",
      "a >> 1: 5\n"
     ]
    }
   ],
   "source": [
    "# Bitwise Operators\n",
    "print(\"a & b:\", a & b)      # AND\n",
    "print(\"a | b:\", a | b)      # OR\n",
    "print(\"a ^ b:\", a ^ b)      # XOR\n",
    "print(\"~a:\", ~a)            # NOT\n",
    "print(\"a << 1:\", a << 1)    # Left shift\n",
    "print(\"a >> 1:\", a >> 1)    # Right shift"
   ]
  },
  {
   "cell_type": "code",
   "execution_count": 19,
   "id": "1e76f708",
   "metadata": {},
   "outputs": [
    {
     "name": "stdout",
     "output_type": "stream",
     "text": [
      "True\n",
      "False\n",
      "True\n",
      "\n",
      "False\n",
      "True\n",
      "False\n"
     ]
    }
   ],
   "source": [
    "# Identity operator\n",
    "x = [\"apple\", \"banana\"]\n",
    "y = [\"apple\", \"banana\"]\n",
    "z = x\n",
    "\n",
    "print(x is z)\n",
    "print(x is y)\n",
    "print(x == y)\n",
    "print()\n",
    "print(x is not z)\n",
    "print(x is not y)\n",
    "print(x != y)"
   ]
  },
  {
   "cell_type": "code",
   "execution_count": null,
   "id": "d248f42c",
   "metadata": {},
   "outputs": [
    {
     "name": "stdout",
     "output_type": "stream",
     "text": [
      "True\n",
      "True\n"
     ]
    }
   ],
   "source": [
    "# Membership operator\n",
    "x = [\"apple\", \"banana\"]\n",
    "print(\"banana\" in x)\n",
    "\n",
    "x = [\"apple\", \"banana\"]\n",
    "print(\"pineapple\" not in x)"
   ]
  },
  {
   "cell_type": "markdown",
   "id": "76a5ce52",
   "metadata": {},
   "source": [
    "**Type Casting: Convert between int, float, str, etc.**"
   ]
  },
  {
   "cell_type": "code",
   "execution_count": 27,
   "id": "f0037bf7",
   "metadata": {},
   "outputs": [
    {
     "name": "stdout",
     "output_type": "stream",
     "text": [
      "1\n",
      "2\n",
      "3\n",
      "<class 'int'>\n"
     ]
    }
   ],
   "source": [
    "# to int()\n",
    "x = int(1)\n",
    "y = int(2.8)\n",
    "z = int(\"3\")\n",
    "print(x)\n",
    "print(y)\n",
    "print(z)\n",
    "\n",
    "print(type(x))"
   ]
  },
  {
   "cell_type": "code",
   "execution_count": 28,
   "id": "6ba78c34",
   "metadata": {},
   "outputs": [
    {
     "name": "stdout",
     "output_type": "stream",
     "text": [
      "1.0\n",
      "2.8\n",
      "3.0\n",
      "<class 'float'>\n"
     ]
    }
   ],
   "source": [
    "# to float()\n",
    "x = float(1)\n",
    "y = float(2.8)\n",
    "z = float(\"3\")\n",
    "print(x)\n",
    "print(y)\n",
    "print(z)\n",
    "\n",
    "print(type(x))"
   ]
  },
  {
   "cell_type": "code",
   "execution_count": 29,
   "id": "f1373c78",
   "metadata": {},
   "outputs": [
    {
     "name": "stdout",
     "output_type": "stream",
     "text": [
      "s1\n",
      "2\n",
      "3.0\n",
      "<class 'str'>\n"
     ]
    }
   ],
   "source": [
    "# to str()\n",
    "x = str(\"s1\") \n",
    "y = str(2)    \n",
    "z = str(3.0)  \n",
    "print(x)\n",
    "print(y)\n",
    "print(z)\n",
    "\n",
    "print(type(x))"
   ]
  },
  {
   "cell_type": "markdown",
   "id": "96787ee5",
   "metadata": {},
   "source": [
    "**Input/Output: Use input(), print(), formatted strings.**"
   ]
  },
  {
   "cell_type": "code",
   "execution_count": null,
   "id": "b3d67f9f",
   "metadata": {},
   "outputs": [
    {
     "name": "stdout",
     "output_type": "stream",
     "text": [
      "My age is 27\n",
      "My age is 27.\n"
     ]
    }
   ],
   "source": [
    "age = int(input(\"Enter your age: \"))\n",
    "print(\"My age is\",age)\n",
    "print(f\"My age is {age}.\")\n",
    "\n",
    "# single line comment\n",
    "\n",
    "\"\"\"\n",
    "Multiline comments\n",
    "Everything is in comments...\n",
    "\"\"\""
   ]
  }
 ],
 "metadata": {
  "kernelspec": {
   "display_name": "Python 3",
   "language": "python",
   "name": "python3"
  },
  "language_info": {
   "codemirror_mode": {
    "name": "ipython",
    "version": 3
   },
   "file_extension": ".py",
   "mimetype": "text/x-python",
   "name": "python",
   "nbconvert_exporter": "python",
   "pygments_lexer": "ipython3",
   "version": "3.13.1"
  }
 },
 "nbformat": 4,
 "nbformat_minor": 5
}
