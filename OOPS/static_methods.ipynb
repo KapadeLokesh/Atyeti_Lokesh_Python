{
 "cells": [
  {
   "cell_type": "code",
   "execution_count": 8,
   "id": "78196067",
   "metadata": {},
   "outputs": [
    {
     "name": "stdout",
     "output_type": "stream",
     "text": [
      "3\n",
      "3\n"
     ]
    }
   ],
   "source": [
    "# static method:\n",
    "\n",
    "class Employee:\n",
    "   empCount = 0\n",
    "   def __init__(self, name, age):\n",
    "      self.name = name\n",
    "      self.age = age\n",
    "      Employee.empCount += 1\n",
    "   \n",
    "   # creating staticmethod\n",
    "   def showcount():\n",
    "      print (Employee.empCount)\n",
    "      return\n",
    "   counter = staticmethod(showcount)\n",
    "\n",
    "e1 = Employee(\"Bhavana\", 24)\n",
    "e2 = Employee(\"Rajesh\", 26)\n",
    "e3 = Employee(\"John\", 27)\n",
    "\n",
    "e1.counter()\n",
    "Employee.counter()"
   ]
  },
  {
   "cell_type": "code",
   "execution_count": 12,
   "id": "ef7ad81a",
   "metadata": {},
   "outputs": [
    {
     "name": "stdout",
     "output_type": "stream",
     "text": [
      "Total scored points are: 40\n"
     ]
    }
   ],
   "source": [
    "class Student:\n",
    "    points = 0\n",
    "    def __init__(self,name):\n",
    "        self.name = name\n",
    "        Student.points += 20\n",
    "\n",
    "    @staticmethod\n",
    "    def totalPoints():\n",
    "        print(\"Total scored points are:\",Student.points)\n",
    "\n",
    "s1 = Student(\"Loki\")\n",
    "s2 = Student(\"Baki\")\n",
    "\n",
    "Student.totalPoints()"
   ]
  },
  {
   "cell_type": "code",
   "execution_count": 13,
   "id": "b4b0c3b0",
   "metadata": {},
   "outputs": [
    {
     "name": "stdout",
     "output_type": "stream",
     "text": [
      "8\n",
      "8\n"
     ]
    }
   ],
   "source": [
    "class MathOperations:\n",
    "    @staticmethod\n",
    "    def add(x, y):\n",
    "        return x + y\n",
    "\n",
    "    @staticmethod\n",
    "    def multiply(x, y):\n",
    "        return x * y\n",
    "\n",
    "print(MathOperations.add(5, 3))    \n",
    "print(MathOperations.multiply(4, 2))"
   ]
  },
  {
   "cell_type": "code",
   "execution_count": null,
   "id": "2c9e7f4d",
   "metadata": {},
   "outputs": [],
   "source": []
  }
 ],
 "metadata": {
  "kernelspec": {
   "display_name": "pyspark_env",
   "language": "python",
   "name": "python3"
  },
  "language_info": {
   "codemirror_mode": {
    "name": "ipython",
    "version": 3
   },
   "file_extension": ".py",
   "mimetype": "text/x-python",
   "name": "python",
   "nbconvert_exporter": "python",
   "pygments_lexer": "ipython3",
   "version": "3.8.20"
  }
 },
 "nbformat": 4,
 "nbformat_minor": 5
}
