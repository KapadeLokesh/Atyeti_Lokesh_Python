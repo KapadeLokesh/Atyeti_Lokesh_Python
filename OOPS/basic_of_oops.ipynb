{
 "cells": [
  {
   "cell_type": "markdown",
   "id": "5bba31df",
   "metadata": {},
   "source": [
    "**Classes/Objects: Basics of OOP.**"
   ]
  },
  {
   "cell_type": "code",
   "execution_count": null,
   "id": "5fc5ef15",
   "metadata": {},
   "outputs": [
    {
     "name": "stdout",
     "output_type": "stream",
     "text": [
      "Samsung of S21FE support Andriod 13.\n"
     ]
    }
   ],
   "source": [
    "# create class and object:\n",
    "\n",
    "class smartphone:\n",
    "    def __init__(self,brand,model):\n",
    "        self.brand = brand      # instance variable\n",
    "        self.model = model\n",
    "        \n",
    "    def description(self):\n",
    "        return f\"{self.model} of {self.brand} support Andriod 13.\"\n",
    "    \n",
    "obj1 = smartphone(\"S21FE\",\"Samsung\")\n",
    "print(obj1.description())"
   ]
  },
  {
   "cell_type": "code",
   "execution_count": null,
   "id": "c77399b4",
   "metadata": {},
   "outputs": [
    {
     "name": "stdout",
     "output_type": "stream",
     "text": [
      "Roxy barks\n",
      "My dog's name is Roxy, he is a Husky.\n"
     ]
    }
   ],
   "source": [
    "class Dog:\n",
    "    def __init__(self,name,breed):\n",
    "        self.name = name    # instance variable\n",
    "        self.breed = breed      # instance variable\n",
    "    def bark(self):\n",
    "        print(f\"{self.name} barks\")\n",
    "\n",
    "my_dog = Dog(\"Roxy\",\"Husky\")\n",
    "my_dog.bark()\n",
    "print(f\"My dog's name is {my_dog.name}, he is a {my_dog.breed}.\")"
   ]
  },
  {
   "cell_type": "code",
   "execution_count": 6,
   "id": "cab7d8f5",
   "metadata": {},
   "outputs": [
    {
     "name": "stdout",
     "output_type": "stream",
     "text": [
      "The 2020 Audi R8's engine has started.\n"
     ]
    }
   ],
   "source": [
    "class Car:\n",
    "    def __init__(self,brand,model,year):\n",
    "        self.brand = brand\n",
    "        self.model = model\n",
    "        self.year = year\n",
    "\n",
    "    def start_engine(self):\n",
    "        print(f\"The {self.year} {self.brand} {self.model}'s engine has started.\")\n",
    "\n",
    "car1 = Car(\"Audi\",\"R8\",2020)\n",
    "car1.start_engine()"
   ]
  },
  {
   "cell_type": "code",
   "execution_count": null,
   "id": "7cf2fbc5",
   "metadata": {},
   "outputs": [
    {
     "name": "stdout",
     "output_type": "stream",
     "text": [
      "Name: Luffy, Salary: 2000\n",
      "Name: Zoro, Salary: 5000\n",
      "Total Employee 2\n",
      "__doc__: None\n",
      "__doc__: Employee\n",
      "__doc__: __main__\n",
      "__doc__: <class 'object'>\n",
      "__doc__: {'__module__': '__main__', 'empCount': 2, '__init__': <function Employee.__init__ at 0x00000226CA30B4C0>, 'displayCount': <function Employee.displayCount at 0x00000226CA30BEE0>, 'employeeDetails': <function Employee.employeeDetails at 0x00000226CA30B5E0>, '__dict__': <attribute '__dict__' of 'Employee' objects>, '__weakref__': <attribute '__weakref__' of 'Employee' objects>, '__doc__': None}\n"
     ]
    }
   ],
   "source": [
    "class Employee:\n",
    "    empCount = 0    # class variable.\n",
    "\n",
    "    def __init__(self,name, salary):\n",
    "        self.name = name    # instance variable\n",
    "        self.salary = salary\n",
    "        Employee.empCount +=1\n",
    "\n",
    "    def displayCount(self):\n",
    "        print(\"Total Employee : \",Employee.empCount)\n",
    "\n",
    "    def employeeDetails(self):\n",
    "        print(f\"Name: {self.name}, Salary: {self.salary}\")\n",
    "\n",
    "emp1 = Employee(\"Luffy\", 2000)\n",
    "emp2 = Employee(\"Zoro\", 5000)\n",
    "\n",
    "emp1.employeeDetails()\n",
    "emp2.employeeDetails()\n",
    "print (\"Total Employee %d\" % Employee.empCount)\n",
    "\n",
    "# built-in class attributes:\n",
    "print(\"__doc__:\", Employee.__doc__)\n",
    "print(\"__doc__:\", Employee.__name__)\n",
    "print(\"__doc__:\", Employee.__module__)\n",
    "print(\"__doc__:\", Employee.__base__)\n",
    "print(\"__doc__:\", Employee.__dict__)\n",
    "\n"
   ]
  },
  {
   "cell_type": "code",
   "execution_count": null,
   "id": "7f477334",
   "metadata": {},
   "outputs": [
    {
     "name": "stdout",
     "output_type": "stream",
     "text": [
      "2365625722384 2365625722384 2365625722384\n",
      "Point destroyed.\n"
     ]
    }
   ],
   "source": [
    "# __del__() - destructor prints class name of instance that is about to be destroyed.\n",
    "\n",
    "class Point:\n",
    "    def __init__(self,x = 1, y = 2):\n",
    "        self.x = x\n",
    "        self.y = y\n",
    "\n",
    "    def __del__(self):\n",
    "        className = self.__class__.__name__\n",
    "        print(className,\"destroyed.\")\n",
    "\n",
    "p1 = Point()\n",
    "p2 = p1\n",
    "p3 = p2\n",
    "\n",
    "print(id(p1),id(p2),id(p3))\n",
    "del p1,p2,p3\n"
   ]
  },
  {
   "cell_type": "code",
   "execution_count": 9,
   "metadata": {},
   "outputs": [
    {
     "name": "stdout",
     "output_type": "stream",
     "text": [
      "Count:  1\n",
      "Count:  2\n"
     ]
    },
    {
     "ename": "AttributeError",
     "evalue": "type object 'Counter' has no attribute '__count'",
     "output_type": "error",
     "traceback": [
      "\u001b[1;31m---------------------------------------------------------------------------\u001b[0m",
      "\u001b[1;31mAttributeError\u001b[0m                            Traceback (most recent call last)",
      "Cell \u001b[1;32mIn[9], line 12\u001b[0m\n\u001b[0;32m     10\u001b[0m c1\u001b[38;5;241m.\u001b[39mcount()\n\u001b[0;32m     11\u001b[0m c1\u001b[38;5;241m.\u001b[39mcount()\n\u001b[1;32m---> 12\u001b[0m \u001b[38;5;28mprint\u001b[39m(\u001b[43mCounter\u001b[49m\u001b[38;5;241;43m.\u001b[39;49m\u001b[43m__count\u001b[49m) \u001b[38;5;66;03m# will not able to access.\u001b[39;00m\n",
      "\u001b[1;31mAttributeError\u001b[0m: type object 'Counter' has no attribute '__count'"
     ]
    }
   ],
   "source": [
    "# data hiding - using __ before variable so that var are not directly accessible outside class.\n",
    "\n",
    "class Counter:\n",
    "    __count = 0\n",
    "    def count(self):\n",
    "        self.__count += 1\n",
    "        print(\"Count: \",self.__count)\n",
    "\n",
    "c1 = Counter()\n",
    "c1.count()\n",
    "c1.count()\n",
    "print(Counter.__count) # will not able to access."
   ]
  },
  {
   "cell_type": "code",
   "execution_count": 10,
   "id": "1332dd64",
   "metadata": {},
   "outputs": [
    {
     "name": "stdout",
     "output_type": "stream",
     "text": [
      "1\n",
      "2\n",
      "2\n"
     ]
    }
   ],
   "source": [
    "class JustCounter:\n",
    "   __secretCount = 0\n",
    "  \n",
    "   def count(self):\n",
    "      self.__secretCount += 1\n",
    "      print (self.__secretCount)\n",
    "\n",
    "counter = JustCounter()\n",
    "counter.count()\n",
    "counter.count()\n",
    "# to access the above use object._className.__attributeName\n",
    "print(c1._Counter__count)\n"
   ]
  },
  {
   "cell_type": "markdown",
   "id": "770cb089",
   "metadata": {},
   "source": [
    "**Instance/Class Variables: Differences and use cases**"
   ]
  },
  {
   "cell_type": "code",
   "execution_count": null,
   "id": "d580c52c",
   "metadata": {},
   "outputs": [
    {
     "name": "stdout",
     "output_type": "stream",
     "text": [
      "Amount of 5000 is credited from Rohit's account.\n",
      "Updated balance is 15000.\n",
      "Amount of 3000 is debited from Anupama's account.\n",
      "Updated balance is 10000.\n"
     ]
    }
   ],
   "source": [
    "class BankAccount:\n",
    "    totalAcc = 0    # class variable- can be access throught the class and Shared among all instances of the class.\n",
    "\n",
    "    def __init__(self,name,balance=0):\n",
    "        self.name = name    # instance variable- unique to each object of class.\n",
    "        self.balance = balance\n",
    "\n",
    "        BankAccount.totalAcc +=1\n",
    "\n",
    "    def deposit(self,amount):\n",
    "        self.balance += amount\n",
    "        print(f\"Amount of {amount} is credited from {self.name}'s account.\\nUpdated balance is {self.balance}.\")\n",
    "\n",
    "    def withdraw(self,amount):\n",
    "        if amount <= self.balance:\n",
    "            self.balance -= amount\n",
    "            print(f\"Amount of {amount} is debited from {self.name}'s account.\\nUpdated balance is {self.balance}.\")\n",
    "        else:\n",
    "            print(f\"Insufficient Balance...\")\n",
    "\n",
    "acc1 = BankAccount(\"Rohit\",10000)\n",
    "acc2 = BankAccount(\"Anupama\",13000)\n",
    "\n",
    "acc1.deposit(5000)\n",
    "acc2.withdraw(3000)\n",
    "    "
   ]
  },
  {
   "cell_type": "code",
   "execution_count": null,
   "id": "4cee073d",
   "metadata": {},
   "outputs": [],
   "source": []
  }
 ],
 "metadata": {
  "kernelspec": {
   "display_name": "pyspark_env",
   "language": "python",
   "name": "python3"
  },
  "language_info": {
   "codemirror_mode": {
    "name": "ipython",
    "version": 3
   },
   "file_extension": ".py",
   "mimetype": "text/x-python",
   "name": "python",
   "nbconvert_exporter": "python",
   "pygments_lexer": "ipython3",
   "version": "3.8.20"
  }
 },
 "nbformat": 4,
 "nbformat_minor": 5
}
