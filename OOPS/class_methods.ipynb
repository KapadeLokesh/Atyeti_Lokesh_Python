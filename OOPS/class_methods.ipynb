{
 "cells": [
  {
   "cell_type": "code",
   "execution_count": 1,
   "id": "19535071",
   "metadata": {},
   "outputs": [
    {
     "name": "stdout",
     "output_type": "stream",
     "text": [
      "Count:  3\n",
      "Count:  3\n"
     ]
    }
   ],
   "source": [
    "# Class method():\n",
    "\n",
    "class Counter:\n",
    "    count = 0\n",
    "    def __init__(self):\n",
    "        Counter.count +=1\n",
    "\n",
    "    def ShowCount(self):\n",
    "        print(\"Count: \", Counter.count)\n",
    "\n",
    "    cls_method = classmethod(ShowCount)\n",
    "\n",
    "c1 = Counter()\n",
    "c2 = Counter()\n",
    "c3 = Counter()\n",
    "c1.ShowCount()\n",
    "Counter.cls_method()\n",
    "# calling method with class and object both give same result.\n",
    "\n"
   ]
  },
  {
   "cell_type": "code",
   "execution_count": null,
   "id": "4a669b4f",
   "metadata": {},
   "outputs": [
    {
     "name": "stdout",
     "output_type": "stream",
     "text": [
      "Price:  40000\n"
     ]
    }
   ],
   "source": [
    "# To access class attributes within a class method\n",
    "\n",
    "class Car:\n",
    "    price = 40000\n",
    "    \n",
    "    @classmethod\n",
    "    def showPrice(cls):\n",
    "        print(\"Price: \",cls.price)\n",
    "\n",
    "Car.showPrice() # accessing class attribute.\n",
    "    "
   ]
  },
  {
   "cell_type": "code",
   "execution_count": 8,
   "metadata": {},
   "outputs": [
    {
     "name": "stdout",
     "output_type": "stream",
     "text": [
      "2\n",
      "2\n"
     ]
    }
   ],
   "source": [
    "# @classmethod() decorator:\n",
    "class Book:\n",
    "    total_books = 0\n",
    "    def __init__(self):\n",
    "        Book.total_books +=1\n",
    "    \n",
    "    @classmethod\n",
    "    def TotalBooks(cls):\n",
    "        print(Book.total_books)\n",
    "\n",
    "b1 = Book()\n",
    "b2 = Book()\n",
    "\n",
    "b1.TotalBooks()\n",
    "Book.TotalBooks()"
   ]
  },
  {
   "cell_type": "code",
   "execution_count": 11,
   "id": "e1153a87",
   "metadata": {},
   "outputs": [
    {
     "name": "stdout",
     "output_type": "stream",
     "text": [
      "This is test function.\n"
     ]
    }
   ],
   "source": [
    "# setattr() - dynamically add class method to class.\n",
    "class Test:\n",
    "    pass\n",
    "\n",
    "@classmethod\n",
    "def testFunc(cls):\n",
    "    print(\"This is test function.\")\n",
    "\n",
    "# adding dynamically\n",
    "setattr(Test,\"Testing\",testFunc)\n",
    "\n",
    "t1 = Test()\n",
    "t1.Testing()"
   ]
  },
  {
   "cell_type": "code",
   "execution_count": 10,
   "metadata": {},
   "outputs": [
    {
     "ename": "AttributeError",
     "evalue": "'Test' object has no attribute 'testFunc'",
     "output_type": "error",
     "traceback": [
      "\u001b[1;31m---------------------------------------------------------------------------\u001b[0m",
      "\u001b[1;31mAttributeError\u001b[0m                            Traceback (most recent call last)",
      "Cell \u001b[1;32mIn[10], line 10\u001b[0m\n\u001b[0;32m      7\u001b[0m \u001b[38;5;28;01mdel\u001b[39;00m Test\u001b[38;5;241m.\u001b[39mtestFunc\n\u001b[0;32m      9\u001b[0m t1 \u001b[38;5;241m=\u001b[39m Test()\n\u001b[1;32m---> 10\u001b[0m \u001b[43mt1\u001b[49m\u001b[38;5;241;43m.\u001b[39;49m\u001b[43mtestFunc\u001b[49m() \u001b[38;5;66;03m# will give error\u001b[39;00m\n",
      "\u001b[1;31mAttributeError\u001b[0m: 'Test' object has no attribute 'testFunc'"
     ]
    }
   ],
   "source": [
    "# dynamically delete class method from class.\n",
    "class Test:\n",
    "    @classmethod\n",
    "    def testFunc(cls):\n",
    "        print(\"This is test function.\")\n",
    "\n",
    "del Test.testFunc\n",
    "\n",
    "t1 = Test()\n",
    "t1.testFunc() # will give error"
   ]
  },
  {
   "cell_type": "code",
   "execution_count": null,
   "id": "9e437e73",
   "metadata": {},
   "outputs": [],
   "source": []
  }
 ],
 "metadata": {
  "kernelspec": {
   "display_name": "pyspark_env",
   "language": "python",
   "name": "python3"
  },
  "language_info": {
   "codemirror_mode": {
    "name": "ipython",
    "version": 3
   },
   "file_extension": ".py",
   "mimetype": "text/x-python",
   "name": "python",
   "nbconvert_exporter": "python",
   "pygments_lexer": "ipython3",
   "version": "3.8.20"
  }
 },
 "nbformat": 4,
 "nbformat_minor": 5
}
