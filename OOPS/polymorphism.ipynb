{
 "cells": [
  {
   "cell_type": "markdown",
   "id": "9e24d202",
   "metadata": {},
   "source": [
    "**Polymorphism: Method overriding.**"
   ]
  },
  {
   "cell_type": "code",
   "execution_count": null,
   "id": "63c1a314",
   "metadata": {},
   "outputs": [
    {
     "name": "stdout",
     "output_type": "stream",
     "text": [
      "Quack!\n",
      "I'm imitating a duck!\n"
     ]
    }
   ],
   "source": [
    "# Duck Typing:\n",
    "\n",
    "class Duck:\n",
    "    def quack(self):\n",
    "        print(\"Quack!\")\n",
    "\n",
    "class Person:\n",
    "    def quack(self):\n",
    "        print(\"I'm imitating a duck!\")\n",
    "\n",
    "def make_it_quack(thing):\n",
    "    thing.quack()  \n",
    "\n",
    "duck = Duck()\n",
    "person = Person()\n",
    "\n",
    "make_it_quack(duck)   \n",
    "make_it_quack(person) "
   ]
  },
  {
   "cell_type": "code",
   "execution_count": 1,
   "id": "df1f8a29",
   "metadata": {},
   "outputs": [
    {
     "name": "stdout",
     "output_type": "stream",
     "text": [
      "Drawing a circle.\n",
      "Drawing a rectangle.\n",
      "Drawing a triangle.\n"
     ]
    }
   ],
   "source": [
    "class Circle:\n",
    "    def draw(self):\n",
    "        print(\"Drawing a circle.\")\n",
    "\n",
    "class Rectangle:\n",
    "    def draw(self):\n",
    "        print(\"Drawing a rectangle.\")\n",
    "\n",
    "class Triangle:\n",
    "    def draw(self):\n",
    "        print(\"Drawing a triangle.\")\n",
    "\n",
    "def render_shape(shape):\n",
    "    shape.draw()\n",
    "\n",
    "s1 = Circle()\n",
    "s2 = Rectangle()\n",
    "s3 = Triangle()\n",
    "\n",
    "render_shape(s1)\n",
    "render_shape(s2)\n",
    "render_shape(s3)"
   ]
  },
  {
   "cell_type": "code",
   "execution_count": 5,
   "id": "d2dccbba",
   "metadata": {},
   "outputs": [
    {
     "name": "stdout",
     "output_type": "stream",
     "text": [
      "Calling child method\n"
     ]
    }
   ],
   "source": [
    "# Overriding method:\n",
    "\n",
    "class Parent: \n",
    "   def myMethod(self):\n",
    "      print ('Calling parent method')\n",
    "\n",
    "class Child(Parent): \n",
    "   def myMethod(self):\n",
    "      print ('Calling child method')\n",
    "\n",
    "# instance of child\n",
    "c = Child() \n",
    "c.myMethod()"
   ]
  },
  {
   "cell_type": "code",
   "execution_count": 6,
   "metadata": {},
   "outputs": [
    {
     "name": "stdout",
     "output_type": "stream",
     "text": [
      "Interest from BankAccount: $30.00\n",
      "Interest from SavingsAccount: $50.00\n",
      "Interest from FixedDepositAccount: $70.00\n"
     ]
    },
    {
     "data": {
      "text/plain": [
       "70.0"
      ]
     },
     "execution_count": 6,
     "metadata": {},
     "output_type": "execute_result"
    }
   ],
   "source": [
    "class BankAccount:\n",
    "    def __init__(self, balance):\n",
    "        self.balance = balance\n",
    "\n",
    "    def calculate_interest(self):\n",
    "        interest = self.balance * 0.03\n",
    "        print(f\"Interest from BankAccount: ${interest:.2f}\")\n",
    "        return interest\n",
    "\n",
    "class SavingsAccount(BankAccount):\n",
    "    def calculate_interest(self):\n",
    "        interest = self.balance * 0.05\n",
    "        print(f\"Interest from SavingsAccount: ${interest:.2f}\")\n",
    "        return interest\n",
    "\n",
    "class FixedDepositAccount(BankAccount):\n",
    "    def calculate_interest(self):\n",
    "        interest = self.balance * 0.07\n",
    "        print(f\"Interest from FixedDepositAccount: ${interest:.2f}\")\n",
    "        return interest\n",
    "\n",
    "acc1 = BankAccount(1000)\n",
    "acc2 = SavingsAccount(1000)\n",
    "acc3 = FixedDepositAccount(1000)\n",
    "\n",
    "acc1.calculate_interest()  \n",
    "acc2.calculate_interest()  \n",
    "acc3.calculate_interest()   "
   ]
  },
  {
   "cell_type": "code",
   "execution_count": 3,
   "metadata": {},
   "outputs": [
    {
     "name": "stdout",
     "output_type": "stream",
     "text": [
      "35\n",
      "70\n"
     ]
    }
   ],
   "source": [
    "# Overloading method:\n",
    "\n",
    "def add(*nums):\n",
    "   return sum(nums)\n",
    "result1 = add(10, 25)\n",
    "result2 = add(10, 25, 35)\n",
    "\n",
    "print(result1)  \n",
    "print(result2) "
   ]
  },
  {
   "cell_type": "code",
   "execution_count": null,
   "id": "37dfeb99",
   "metadata": {},
   "outputs": [],
   "source": []
  }
 ],
 "metadata": {
  "kernelspec": {
   "display_name": "pyspark_env",
   "language": "python",
   "name": "python3"
  },
  "language_info": {
   "codemirror_mode": {
    "name": "ipython",
    "version": 3
   },
   "file_extension": ".py",
   "mimetype": "text/x-python",
   "name": "python",
   "nbconvert_exporter": "python",
   "pygments_lexer": "ipython3",
   "version": "3.8.20"
  }
 },
 "nbformat": 4,
 "nbformat_minor": 5
}
