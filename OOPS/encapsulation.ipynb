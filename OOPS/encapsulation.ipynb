{
 "cells": [
  {
   "cell_type": "markdown",
   "id": "75102bfe",
   "metadata": {},
   "source": [
    "**Encapsulation: Private variables and methods.**"
   ]
  },
  {
   "cell_type": "code",
   "execution_count": 1,
   "id": "a8b49c90",
   "metadata": {},
   "outputs": [
    {
     "name": "stdout",
     "output_type": "stream",
     "text": [
      "Deposit of $200.00 for Alice. New balance: $1200.00\n",
      "Withdrawal of $100.00 for Alice. New balance: $1100.00\n",
      "Current Balance: 1100\n"
     ]
    }
   ],
   "source": [
    "class BankAccount:\n",
    "    def __init__(self, account_holder, balance):\n",
    "        self.__account_holder = account_holder  \n",
    "        self.__balance = balance  \n",
    "\n",
    "    def deposit(self, amount):\n",
    "        if amount > 0:\n",
    "            self.__balance += amount\n",
    "            self.__log_transaction(\"Deposit\", amount)\n",
    "        else:\n",
    "            print(\"Deposit amount must be positive.\")\n",
    "\n",
    "    def withdraw(self, amount):\n",
    "        if 0 < amount <= self.__balance:\n",
    "            self.__balance -= amount\n",
    "            self.__log_transaction(\"Withdrawal\", amount)\n",
    "        else:\n",
    "            print(\"Invalid withdrawal amount.\")\n",
    "\n",
    "    def get_balance(self):\n",
    "        return self.__balance\n",
    "\n",
    "    def get_account_holder(self):\n",
    "        return self.__account_holder\n",
    "\n",
    "    def __log_transaction(self, transaction_type, amount):\n",
    "        print(f\"{transaction_type} of ${amount:.2f} for {self.__account_holder}. New balance: ${self.__balance:.2f}\")\n",
    "\n",
    "\n",
    "account = BankAccount(\"Alice\", 1000)\n",
    "account.deposit(200)\n",
    "account.withdraw(100)\n",
    "print(\"Current Balance:\", account.get_balance())\n",
    "\n"
   ]
  },
  {
   "cell_type": "code",
   "execution_count": 1,
   "metadata": {},
   "outputs": [
    {
     "name": "stdout",
     "output_type": "stream",
     "text": [
      "Grade set for Math: 95\n",
      "Grade set for Science: 88\n",
      "Invalid grade. Must be between 0 and 100.\n",
      "Grade set for English: 91\n",
      "\n",
      "Report Card for Luffy (ID: L2435)\n",
      " - Math: 95\n",
      " - Science: 88\n",
      " - English: 91\n",
      "Average Grade: 91.33\n"
     ]
    }
   ],
   "source": [
    "class Student:\n",
    "    def __init__(self, name, student_id):\n",
    "        self.name = name\n",
    "        self.student_id = student_id\n",
    "        self.__grades = {}\n",
    "\n",
    "    def set_grade(self,subject,grade):\n",
    "        if 0 <= grade <=100:\n",
    "            self.__grades[subject] = grade\n",
    "            print(f\"Grade set for {subject}: {grade}\")\n",
    "        else:\n",
    "            print(\"Invalid grade. Must be between 0 and 100.\")\n",
    "\n",
    "    def get_grade(self, subject):\n",
    "        return self.__grades.get(subject, \"No grade available\")\n",
    "    \n",
    "    def calculate_average(self):\n",
    "        if self.__grades:\n",
    "            avg = sum(self.__grades.values()) / len(self.__grades)\n",
    "            return round(avg, 2)\n",
    "        return \"No grades available.\"\n",
    "    \n",
    "    def display_report_card(self):\n",
    "        print(f\"\\nReport Card for {self.name} (ID: {self.student_id})\")\n",
    "        for subject, grade in self.__grades.items():\n",
    "            print(f\" - {subject}: {grade}\")\n",
    "        print(f\"Average Grade: {self.calculate_average()}\")\n",
    "    \n",
    "stud1 = Student(\"Luffy\",\"L2435\")\n",
    "\n",
    "stud1.set_grade(\"Math\",95)\n",
    "stud1.set_grade(\"Science\",88)\n",
    "stud1.set_grade(\"History\",104)\n",
    "stud1.set_grade(\"English\",91)\n",
    "\n",
    "stud1.display_report_card()"
   ]
  },
  {
   "cell_type": "code",
   "execution_count": null,
   "metadata": {},
   "outputs": [],
   "source": []
  }
 ],
 "metadata": {
  "kernelspec": {
   "display_name": "Python 3",
   "language": "python",
   "name": "python3"
  },
  "language_info": {
   "codemirror_mode": {
    "name": "ipython",
    "version": 3
   },
   "file_extension": ".py",
   "mimetype": "text/x-python",
   "name": "python",
   "nbconvert_exporter": "python",
   "pygments_lexer": "ipython3",
   "version": "3.13.1"
  }
 },
 "nbformat": 4,
 "nbformat_minor": 5
}
