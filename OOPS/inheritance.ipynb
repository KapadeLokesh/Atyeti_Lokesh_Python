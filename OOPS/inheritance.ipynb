{
 "cells": [
  {
   "cell_type": "markdown",
   "id": "bbc4d644",
   "metadata": {},
   "source": [
    "**Inheritance: Single and multi-level.**"
   ]
  },
  {
   "cell_type": "code",
   "execution_count": null,
   "id": "89d34dea",
   "metadata": {},
   "outputs": [
    {
     "name": "stdout",
     "output_type": "stream",
     "text": [
      "Calling child class method.\n",
      "Calling parent class method.\n"
     ]
    }
   ],
   "source": [
    "# single inheritance:\n",
    "\n",
    "# parent class:\n",
    "class Parent:\n",
    "    def parentMethod(self):\n",
    "        print(\"Calling parent class method.\")\n",
    "    \n",
    "# child class:\n",
    "class Child(Parent):\n",
    "    def childMethod(self):\n",
    "        print(\"Calling child class method.\")\n",
    "\n",
    "# instance of child class\n",
    "child1 = Child()\n",
    "\n",
    "# calling child method\n",
    "child1.childMethod()\n",
    "\n",
    "# calling child method\n",
    "child1.parentMethod()"
   ]
  },
  {
   "cell_type": "code",
   "execution_count": 2,
   "metadata": {},
   "outputs": [
    {
     "name": "stdout",
     "output_type": "stream",
     "text": [
      "Harry has balance of 250000 in his Saving Account.\n",
      "Ron has balance of 14000 in his Current Account.\n"
     ]
    }
   ],
   "source": [
    "# multiple inheritance:\n",
    "\n",
    "class SavingAccount:\n",
    "    def __init__(self,name,balance=0):\n",
    "        self.name = name\n",
    "        self.balance = balance\n",
    "\n",
    "    def showDetails(self):\n",
    "        print(f\"{self.name} has balance of {self.balance} in his Saving Account.\")\n",
    "\n",
    "class CurrentAccount:\n",
    "    def __init__(self,name,balance=0):\n",
    "        self.name = name\n",
    "        self.balance = balance\n",
    "\n",
    "    def showDetails(self):\n",
    "        print(f\"{self.name} has balance of {self.balance} in his Current Account.\")\n",
    "\n",
    "class CreateAccount(SavingAccount,CurrentAccount):\n",
    "    def __init__(self,account_type, name, balance=0):\n",
    "        self.account = None\n",
    "        if account_type.lower() == \"saving\":\n",
    "            self.account = SavingAccount(name,balance)\n",
    "        elif account_type.lower() == \"current\":\n",
    "            self.account = CurrentAccount(name,balance)\n",
    "        \n",
    "    def showDetails(self):\n",
    "        if self.account:\n",
    "            self.account.showDetails()\n",
    "        else:\n",
    "            print(\"No Account found.\")\n",
    "\n",
    "acc1 = CreateAccount(\"saving\",\"Harry\",250000)\n",
    "acc2 = CreateAccount(\"Current\", \"Ron\",14000)\n",
    "\n",
    "acc1.showDetails()\n",
    "acc2.showDetails()\n",
    "       \n"
   ]
  },
  {
   "cell_type": "code",
   "execution_count": 4,
   "metadata": {},
   "outputs": [
    {
     "name": "stdout",
     "output_type": "stream",
     "text": [
      "I am in Universe.\n",
      "I am on Earth.\n",
      "I am from India.\n"
     ]
    }
   ],
   "source": [
    "# multilevel inheritance:\n",
    "\n",
    "class Universe:\n",
    "    def universeMethod(self):\n",
    "        print(\"I am in Universe.\")\n",
    "class Earth(Universe):\n",
    "    def earthmethod(self):\n",
    "        print(\"I am on Earth.\")\n",
    "class India(Earth):\n",
    "    def indianMethod(self):\n",
    "        print(\"I am from India.\")\n",
    "\n",
    "person = India()\n",
    "person.universeMethod()\n",
    "person.earthmethod()\n",
    "person.indianMethod()"
   ]
  },
  {
   "cell_type": "code",
   "execution_count": 5,
   "id": "dfdf0a10",
   "metadata": {},
   "outputs": [
    {
     "name": "stdout",
     "output_type": "stream",
     "text": [
      "I am the Manager\n",
      "I am Employee one\n",
      "I am the Manager\n",
      "I am Employee two\n"
     ]
    }
   ],
   "source": [
    "# Hierarchical Inheritance:\n",
    "\n",
    "class Manager: \n",
    "   def managerMethod(self):\n",
    "      print (\"I am the Manager\")\n",
    "class Employee1(Manager): \n",
    "   def employee1Method(self):\n",
    "      print (\"I am Employee one\")\n",
    "class Employee2(Manager): \n",
    "   def employee2Method(self):\n",
    "      print (\"I am Employee two\")    \n",
    "emp1 = Employee1()  \n",
    "emp2 = Employee2()\n",
    "emp1.managerMethod() \n",
    "emp1.employee1Method()\n",
    "emp2.managerMethod() \n",
    "emp2.employee2Method()  "
   ]
  },
  {
   "cell_type": "code",
   "execution_count": null,
   "id": "885b98a8",
   "metadata": {},
   "outputs": [
    {
     "name": "stdout",
     "output_type": "stream",
     "text": [
      "Hi how are you?\n"
     ]
    }
   ],
   "source": [
    "# super() function: Allows to access methods and attributes of the parent class from within a child class.\n",
    "\n",
    "class Parent:\n",
    "    def __init__(self, msg):\n",
    "        self.message = msg\n",
    "\n",
    "    def showDetails(self):\n",
    "        print(self.message)\n",
    "\n",
    "class Child(Parent):\n",
    "    def __init__(self, msg):\n",
    "        super().__init__(msg) # Calls Parent's __init__\n",
    "\n",
    "obj1 = Child(\"Hi how are you?\")\n",
    "obj1. showDetails()       "
   ]
  },
  {
   "cell_type": "code",
   "execution_count": 13,
   "id": "ca44c682",
   "metadata": {},
   "outputs": [
    {
     "name": "stdout",
     "output_type": "stream",
     "text": [
      "Bank account for Ravindra created with balance 14000\n",
      "Saving account created with interest rate 3.0%\n",
      "1000 deposited. New balance: 15000\n",
      "Interest of 450.0 applied. New balance: 15450.0\n",
      "Ravindra has a balance of 15450.0/-\n"
     ]
    }
   ],
   "source": [
    "class BankAccount:\n",
    "    def __init__(self, name, balance=0):\n",
    "        self.name = name\n",
    "        self.balance = balance\n",
    "        print(f\"Bank account for {self.name} created with balance {self.balance}\")\n",
    "\n",
    "    def deposit(self, amount):\n",
    "        self.balance += amount\n",
    "        print(f\"{amount} deposited. New balance: {self.balance}\")\n",
    "\n",
    "    def showDetails(self):\n",
    "        print(f\"{self.name} has a balance of {self.balance}/-\")\n",
    "\n",
    "class SavingAccount(BankAccount):\n",
    "    def __init__(self, name, balance=0, interest_rate=0.03):\n",
    "        super().__init__(name, balance)  # Call the base class constructor.\n",
    "        self.interest_rate = interest_rate\n",
    "        print(f\"Saving account created with interest rate {self.interest_rate * 100}%\")\n",
    "\n",
    "    def applyInterest(self):\n",
    "        interest = self.balance * self.interest_rate\n",
    "        self.balance += interest\n",
    "        print(f\"Interest of {interest} applied. New balance: {self.balance}\")\n",
    "\n",
    "# Example usage\n",
    "acc = SavingAccount(\"Ravindra\", 14000)\n",
    "acc.deposit(1000)\n",
    "acc.applyInterest()\n",
    "acc.showDetails()"
   ]
  },
  {
   "cell_type": "code",
   "execution_count": null,
   "id": "c9cbd47b",
   "metadata": {},
   "outputs": [],
   "source": []
  },
  {
   "cell_type": "code",
   "execution_count": null,
   "id": "168520d8",
   "metadata": {},
   "outputs": [],
   "source": []
  }
 ],
 "metadata": {
  "kernelspec": {
   "display_name": "pyspark_env",
   "language": "python",
   "name": "python3"
  },
  "language_info": {
   "codemirror_mode": {
    "name": "ipython",
    "version": 3
   },
   "file_extension": ".py",
   "mimetype": "text/x-python",
   "name": "python",
   "nbconvert_exporter": "python",
   "pygments_lexer": "ipython3",
   "version": "3.8.20"
  }
 },
 "nbformat": 4,
 "nbformat_minor": 5
}
