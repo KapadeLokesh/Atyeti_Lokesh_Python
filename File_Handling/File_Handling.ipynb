{
 "cells": [
  {
   "cell_type": "markdown",
   "id": "a956ffc3",
   "metadata": {},
   "source": [
    "**File Modes: r, w, a, rb, wb, etc.**"
   ]
  },
  {
   "cell_type": "code",
   "execution_count": 30,
   "id": "4abdbb2c",
   "metadata": {},
   "outputs": [
    {
     "name": "stdout",
     "output_type": "stream",
     "text": [
      "File Handling:-\n",
      "The open() function takes two parameters; filename, and mode.\n",
      "\"r\" - Read - Default value. Opens a file for reading, error if the file does not exist\n",
      "\"a\" - Append - Opens a file for appending, creates the file if it does not exist\n",
      "\"w\" - Write - Opens a file for writing, creates the file if it does not exist\n",
      "\"x\" - Create - Creates the specified file, returns an error if the file exists\n",
      "\"t\" - Text - Default value. Text mode\n",
      "\"b\" - Binary - Binary mode (e.g. images)\n"
     ]
    }
   ],
   "source": [
    "f = open(\"demofile.txt\", 'r')\n",
    "print(f.read())\n",
    "f.close()"
   ]
  },
  {
   "cell_type": "code",
   "execution_count": 35,
   "id": "fd20f7b3",
   "metadata": {},
   "outputs": [
    {
     "name": "stdout",
     "output_type": "stream",
     "text": [
      "Hello World!\n",
      "\n",
      "Python is fun...\n"
     ]
    }
   ],
   "source": [
    "# readlines(): \n",
    "file = open(\"example.txt\", 'r')\n",
    "lines = file.readlines()\n",
    "for line in lines:\n",
    "    print(line)\n",
    "file.close()"
   ]
  },
  {
   "cell_type": "code",
   "execution_count": 41,
   "metadata": {},
   "outputs": [
    {
     "name": "stdout",
     "output_type": "stream",
     "text": [
      "Hello World!\n",
      "\n",
      "File Handling in python.\n"
     ]
    }
   ],
   "source": [
    "# readline():\n",
    "file = open(\"example.txt\", 'r')\n",
    "while True:\n",
    "    line = file.readline()\n",
    "    if not line:\n",
    "        break\n",
    "    print(line)"
   ]
  },
  {
   "cell_type": "code",
   "execution_count": 42,
   "metadata": {},
   "outputs": [
    {
     "name": "stdout",
     "output_type": "stream",
     "text": [
      "Hello World!\n",
      "File Handling in python.\n",
      "New text being added....\n"
     ]
    }
   ],
   "source": [
    "file  = open(\"example.txt\",'a') \n",
    "file.write(\"\\nNew text being added....\")\n",
    "file.close()\n",
    "\n",
    "with open(\"example.txt\") as f:\n",
    "    print(f.read())\n",
    "\n"
   ]
  },
  {
   "cell_type": "code",
   "execution_count": 43,
   "metadata": {},
   "outputs": [
    {
     "name": "stdout",
     "output_type": "stream",
     "text": [
      "Overwriting the data to existng file...\n"
     ]
    }
   ],
   "source": [
    "file  = open(\"example.txt\",'w') \n",
    "file.write(\"Overwriting the data to existng file...\")\n",
    "file.close()\n",
    "\n",
    "with open(\"example.txt\") as f:\n",
    "    print(f.read())"
   ]
  },
  {
   "cell_type": "code",
   "execution_count": null,
   "metadata": {},
   "outputs": [
    {
     "name": "stdout",
     "output_type": "stream",
     "text": [
      "b'Overwriting the data to existng file...'\n"
     ]
    }
   ],
   "source": [
    "# rb - read in binary mode\n",
    "with open(\"example.txt\",'rb') as file:\n",
    "    content = file.read()\n",
    "    print(content)"
   ]
  },
  {
   "cell_type": "code",
   "execution_count": null,
   "metadata": {},
   "outputs": [
    {
     "name": "stdout",
     "output_type": "stream",
     "text": [
      "Writing binary data\n"
     ]
    }
   ],
   "source": [
    "# wb - write in binary mode\n",
    "data = b\"Writing binary data\"\n",
    "with open('example1.txt','wb') as file:\n",
    "    file.write(data)\n",
    "\n",
    "with open(\"example1.txt\") as f:\n",
    "    print(f.read())"
   ]
  },
  {
   "cell_type": "markdown",
   "id": "a5eea2dd",
   "metadata": {},
   "source": [
    "**OS Module: File and directory management.**"
   ]
  },
  {
   "cell_type": "code",
   "execution_count": 55,
   "metadata": {},
   "outputs": [
    {
     "name": "stdout",
     "output_type": "stream",
     "text": [
      "c:\\Users\\LokeshKapde\\Documents\\New folder\\Python Tasks Repo\\Python Practice\\File_Handling\n"
     ]
    }
   ],
   "source": [
    "# get current working directory:\n",
    "import os\n",
    "cwd = os.getcwd()\n",
    "print(cwd)"
   ]
  },
  {
   "cell_type": "code",
   "execution_count": 64,
   "id": "be8cb9f2",
   "metadata": {},
   "outputs": [
    {
     "name": "stdout",
     "output_type": "stream",
     "text": [
      "Before:  c:\\Users\\LokeshKapde\\Documents\\New folder\\Python Tasks Repo\n",
      "After:  C:\\Users\\LokeshKapde\\Documents\\New folder\\Python Tasks Repo\\Python Practice\\File_Handling\n"
     ]
    }
   ],
   "source": [
    "# change current directory:\n",
    "print(\"Before: \",os.getcwd())\n",
    "os.chdir(r'C:\\Users\\LokeshKapde\\Documents\\New folder\\Python Tasks Repo\\Python Practice\\File_Handling')\n",
    "print(\"After: \",os.getcwd())\n"
   ]
  },
  {
   "cell_type": "code",
   "execution_count": 65,
   "id": "676a8cfc",
   "metadata": {},
   "outputs": [
    {
     "name": "stdout",
     "output_type": "stream",
     "text": [
      "['demofile.txt', 'example.txt', 'example1.txt', 'File_Handling.ipynb', 'Topics']\n"
     ]
    }
   ],
   "source": [
    "# list files and directories:\n",
    "print(os.listdir('.'))"
   ]
  },
  {
   "cell_type": "code",
   "execution_count": 66,
   "id": "ecef4524",
   "metadata": {},
   "outputs": [],
   "source": [
    "# create directory:\n",
    "os.mkdir('new_folder')"
   ]
  },
  {
   "cell_type": "code",
   "execution_count": 67,
   "metadata": {},
   "outputs": [],
   "source": [
    "# rename file / directory:\n",
    "os.rename('new_folder','New_Folder')"
   ]
  },
  {
   "cell_type": "code",
   "execution_count": 68,
   "metadata": {},
   "outputs": [
    {
     "name": "stdout",
     "output_type": "stream",
     "text": [
      "True\n"
     ]
    }
   ],
   "source": [
    "# check path:\n",
    "print(os.path.exists('example.txt'))"
   ]
  },
  {
   "cell_type": "code",
   "execution_count": 69,
   "id": "cebcdb23",
   "metadata": {},
   "outputs": [
    {
     "name": "stdout",
     "output_type": "stream",
     "text": [
      "0\n",
      "C:\\Users\\LokeshKapde\\Documents\\New folder\\Python Tasks Repo\\Python Practice\\File_Handling\\example.txt\n",
      "True\n",
      "True\n"
     ]
    }
   ],
   "source": [
    "print(os.path.getsize('example.txt'))        # Size in bytes\n",
    "print(os.path.abspath('example.txt'))        # Absolute path\n",
    "print(os.path.isdir('New_Folder'))            # True if it's a directory\n",
    "print(os.path.isfile('example.txt')) "
   ]
  },
  {
   "cell_type": "markdown",
   "id": "c617d881",
   "metadata": {},
   "source": [
    "**Shutil Module: File operations like copy, move.**"
   ]
  },
  {
   "cell_type": "code",
   "execution_count": null,
   "id": "c8cae705",
   "metadata": {},
   "outputs": [
    {
     "data": {
      "text/plain": [
       "'New_Folder\\\\example.txt'"
      ]
     },
     "execution_count": 81,
     "metadata": {},
     "output_type": "execute_result"
    }
   ],
   "source": [
    "\n",
    "# copy a file:\n",
    "\n",
    "import shutil\n",
    "import os\n",
    "\n",
    "shutil.copy('example.txt','New_Folder')"
   ]
  },
  {
   "cell_type": "code",
   "execution_count": 87,
   "id": "8d774ce1",
   "metadata": {},
   "outputs": [
    {
     "data": {
      "text/plain": [
       "'New_Folder/example1.txt'"
      ]
     },
     "execution_count": 87,
     "metadata": {},
     "output_type": "execute_result"
    }
   ],
   "source": [
    "# move a file:\n",
    "shutil.move('example1.txt', 'New_Folder/')"
   ]
  },
  {
   "cell_type": "code",
   "execution_count": null,
   "id": "ccbc1a30",
   "metadata": {},
   "outputs": [],
   "source": [
    "# copy directory and their contents:\n",
    "# shutil.copytree('source_dir','target_dir')\n",
    "\n",
    "# removes the directory and all its contents:\n",
    "# shutil.rmtree('directory')\n"
   ]
  }
 ],
 "metadata": {
  "kernelspec": {
   "display_name": "Python 3",
   "language": "python",
   "name": "python3"
  },
  "language_info": {
   "codemirror_mode": {
    "name": "ipython",
    "version": 3
   },
   "file_extension": ".py",
   "mimetype": "text/x-python",
   "name": "python",
   "nbconvert_exporter": "python",
   "pygments_lexer": "ipython3",
   "version": "3.13.1"
  }
 },
 "nbformat": 4,
 "nbformat_minor": 5
}
