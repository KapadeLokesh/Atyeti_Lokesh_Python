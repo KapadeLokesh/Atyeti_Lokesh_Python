{
 "cells": [
  {
   "cell_type": "markdown",
   "id": "8755cf86",
   "metadata": {},
   "source": [
    "**Functions: Define with def, return values.**"
   ]
  },
  {
   "cell_type": "code",
   "execution_count": 2,
   "id": "943a057d",
   "metadata": {},
   "outputs": [
    {
     "name": "stdout",
     "output_type": "stream",
     "text": [
      "Hello this is a function..\n"
     ]
    }
   ],
   "source": [
    "# defining a function:\n",
    "def my_function():\n",
    "    print(\"Hello this is a function..\")\n",
    "\n",
    "my_function()"
   ]
  },
  {
   "cell_type": "code",
   "execution_count": 5,
   "id": "f0849820",
   "metadata": {},
   "outputs": [
    {
     "name": "stdout",
     "output_type": "stream",
     "text": [
      "I am Loki\n",
      "15\n"
     ]
    }
   ],
   "source": [
    "# passing argument to function:\n",
    "def my_function(name):\n",
    "    print(\"I am\",name)\n",
    "\n",
    "def add(num1,num2):\n",
    "    print(num1+num2)\n",
    "\n",
    "my_function(\"Loki\")\n",
    "add(10,5)"
   ]
  },
  {
   "cell_type": "code",
   "execution_count": 11,
   "id": "8985cdce",
   "metadata": {},
   "outputs": [
    {
     "name": "stdout",
     "output_type": "stream",
     "text": [
      "Sum: 15 Product: 50\n"
     ]
    }
   ],
   "source": [
    "# return values:\n",
    "def calculation(num1,num2):\n",
    "    sum = num1 + num2\n",
    "    product = num1 * num2\n",
    "    return sum, product\n",
    "\n",
    "a,b = calculation(10,5)\n",
    "print(\"Sum:\",a, \"Product:\",b)\n"
   ]
  },
  {
   "cell_type": "markdown",
   "id": "267b8079",
   "metadata": {},
   "source": [
    "**Arguments: Positional, keyword, default, *args, **kwargs.**"
   ]
  },
  {
   "cell_type": "code",
   "execution_count": 15,
   "id": "3c881d8e",
   "metadata": {},
   "outputs": [
    {
     "name": "stdout",
     "output_type": "stream",
     "text": [
      "Hello Max, are you 25 years old?\n"
     ]
    }
   ],
   "source": [
    "# Positinal arguments:\n",
    "def greet(name,age):\n",
    "    print(f\"Hello {name}, are you {age} years old?\")\n",
    "\n",
    "greet(\"Max\",25)"
   ]
  },
  {
   "cell_type": "code",
   "execution_count": 14,
   "id": "b2259145",
   "metadata": {},
   "outputs": [
    {
     "name": "stdout",
     "output_type": "stream",
     "text": [
      "Hello Marie, are you 22 years old?\n"
     ]
    }
   ],
   "source": [
    "# Keyword arguments:\n",
    "def greet(name = \"Marie\",age = 22):\n",
    "    print(f\"Hello {name}, are you {age} years old?\")\n",
    "\n",
    "greet()"
   ]
  },
  {
   "cell_type": "code",
   "execution_count": 16,
   "id": "eec60f6c",
   "metadata": {},
   "outputs": [
    {
     "name": "stdout",
     "output_type": "stream",
     "text": [
      "Hello Ron, are you 26 years old?\n",
      "Hello Harry, are you 31 years old?\n"
     ]
    }
   ],
   "source": [
    "# Default arguments:\n",
    "def greet(name ,age = 26):\n",
    "    print(f\"Hello {name}, are you {age} years old?\")\n",
    "\n",
    "greet(\"Ron\")\n",
    "greet(\"Harry\",31)"
   ]
  },
  {
   "cell_type": "code",
   "execution_count": 31,
   "id": "2b813bed",
   "metadata": {},
   "outputs": [
    {
     "name": "stdout",
     "output_type": "stream",
     "text": [
      "Booking flight from New York to London\n",
      "Date: 2025-05-12, Class: Economy\n",
      "#######################################\n",
      "Booking flight from India to Dubai\n",
      "Date: 2025-05-12, Class: Business\n"
     ]
    }
   ],
   "source": [
    "from datetime import date\n",
    "\n",
    "def book_ticket(start_from, destination, date = date.today(),seat_class = \"Economy\"):\n",
    "    print(f\"Booking flight from {start_from} to {destination}\")\n",
    "    print(f\"Date: {date}, Class: {seat_class}\")\n",
    "\n",
    "book_ticket(\"New York\",\"London\")\n",
    "print(\"#######################################\")\n",
    "book_ticket(\"India\", \"Dubai\", seat_class=\"Business\")\n"
   ]
  },
  {
   "cell_type": "code",
   "execution_count": 18,
   "id": "99303465",
   "metadata": {},
   "outputs": [
    {
     "name": "stdout",
     "output_type": "stream",
     "text": [
      "Alice's scores: (71, 84, 59)\n",
      "Alex's scores: (51, 49, 89)\n"
     ]
    }
   ],
   "source": [
    "# Variable length arguments *args:\n",
    "def print_score(name, *scores):\n",
    "    print(f\"{name}'s scores: {scores}\")\n",
    "\n",
    "print_score(\"Alice\", 71,84,59)\n",
    "print_score(\"Alex\", 51,49,89)"
   ]
  },
  {
   "cell_type": "code",
   "execution_count": 32,
   "id": "539e2600",
   "metadata": {},
   "outputs": [
    {
     "name": "stdout",
     "output_type": "stream",
     "text": [
      "User 1345 added following items:\n",
      "Coke\n",
      "Atta\n",
      "Comfort\n"
     ]
    }
   ],
   "source": [
    "def add_to_cart(customer_id,*items):\n",
    "    print(f\"User {customer_id} added following items:\")\n",
    "    for i in items:\n",
    "        print(i)\n",
    "\n",
    "add_to_cart(1345, \"Coke\", \"Atta\", \"Comfort\")"
   ]
  },
  {
   "cell_type": "code",
   "execution_count": 27,
   "metadata": {},
   "outputs": [
    {
     "name": "stdout",
     "output_type": "stream",
     "text": [
      "Beru's details: {'species': 'Cat', 'breed': 'Persian', 'age': 6}\n",
      "Roxy's details: {'species': 'Dog', 'breed': 'Husky', 'age': 9}\n"
     ]
    }
   ],
   "source": [
    "# Variable length keyword arguments **kwargs:\n",
    "def pet_info(name, **details):\n",
    "    print(f\"{name}'s details: {details}\")\n",
    "\n",
    "pet_info(\"Beru\",species = \"Cat\",breed = \"Persian\", age = 6)\n",
    "pet_info(\"Roxy\",species = \"Dog\",breed = \"Husky\", age = 9)"
   ]
  },
  {
   "cell_type": "code",
   "execution_count": 39,
   "id": "5f13faa8",
   "metadata": {},
   "outputs": [
    {
     "name": "stdout",
     "output_type": "stream",
     "text": [
      "User 1345 added following items:\n",
      "Product: Coke |Qty: 2\n",
      "Product: Atta |Qty: 3\n",
      "Product: Soap |Qty: 12\n"
     ]
    }
   ],
   "source": [
    "def add_to_cart(customer_id,**items):\n",
    "    print(f\"User {customer_id} added following items:\")\n",
    "    for i,j in items.items():\n",
    "        print(\"Product:\",i,\"|Qty:\",j)\n",
    "\n",
    "add_to_cart(1345, Coke = 2, Atta = 3, Soap = 12)"
   ]
  },
  {
   "cell_type": "markdown",
   "id": "61b8943a",
   "metadata": {},
   "source": [
    "**Lambda Functions: Anonymous functions.**"
   ]
  },
  {
   "cell_type": "code",
   "execution_count": 41,
   "id": "cce07601",
   "metadata": {},
   "outputs": [
    {
     "name": "stdout",
     "output_type": "stream",
     "text": [
      "81\n",
      "18\n"
     ]
    }
   ],
   "source": [
    "x = lambda x: x**2\n",
    "print(x(9))\n",
    "\n",
    "y = lambda a,b: a * b\n",
    "print(y(3,6))"
   ]
  },
  {
   "cell_type": "code",
   "execution_count": 43,
   "id": "200ac968",
   "metadata": {},
   "outputs": [
    {
     "name": "stdout",
     "output_type": "stream",
     "text": [
      "20\n",
      "30\n"
     ]
    }
   ],
   "source": [
    "def myfunc(n):\n",
    "  return lambda a : a * n\n",
    "\n",
    "double = myfunc(2)\n",
    "triple = myfunc(3)\n",
    "\n",
    "print(double(10))\n",
    "print(triple(10))"
   ]
  },
  {
   "cell_type": "code",
   "execution_count": 45,
   "id": "75aaed2f",
   "metadata": {},
   "outputs": [
    {
     "name": "stdout",
     "output_type": "stream",
     "text": [
      "HI HOW ARE YOU?\n"
     ]
    }
   ],
   "source": [
    "str1 = \"hi how are you?\"\n",
    "result = lambda string: string.upper()\n",
    "print(result(str1))"
   ]
  },
  {
   "cell_type": "code",
   "execution_count": 46,
   "id": "463f90b6",
   "metadata": {},
   "outputs": [
    {
     "name": "stdout",
     "output_type": "stream",
     "text": [
      "Positive\n",
      "Zero\n",
      "Negative\n"
     ]
    }
   ],
   "source": [
    "n = lambda x: \"Positive\" if x>0 else \"Negative\" if x<0 else \"Zero\"\n",
    "print(n(7))\n",
    "print(n(0))\n",
    "print(n(-4))"
   ]
  },
  {
   "cell_type": "code",
   "execution_count": 54,
   "id": "a6987094",
   "metadata": {},
   "outputs": [
    {
     "name": "stdout",
     "output_type": "stream",
     "text": [
      "[2, 4, 6, 8, 10]\n"
     ]
    }
   ],
   "source": [
    "list1 = [lambda a=x: a*2 for x in range(1,6)]\n",
    "print([f() for f in list1])"
   ]
  },
  {
   "cell_type": "code",
   "execution_count": 58,
   "id": "a12909bf",
   "metadata": {},
   "outputs": [
    {
     "name": "stdout",
     "output_type": "stream",
     "text": [
      "[{'name': 'zoro', 'score': 72}, {'name': 'loki', 'score': 88}, {'name': 'andy', 'score': 95}]\n"
     ]
    }
   ],
   "source": [
    "students = [\n",
    "    {\"name\": \"loki\", \"score\": 88},\n",
    "    {\"name\": \"zoro\", \"score\": 72},\n",
    "    {\"name\": \"andy\", \"score\": 95}\n",
    "]\n",
    "\n",
    "sort_students = sorted(students, key = lambda student: student[\"score\"])\n",
    "print(sort_students)\n"
   ]
  },
  {
   "cell_type": "code",
   "execution_count": 59,
   "id": "cf4ad461",
   "metadata": {},
   "outputs": [
    {
     "name": "stdout",
     "output_type": "stream",
     "text": [
      "[1, 4, 9, 16, 25]\n",
      "[0, 2, 4, 6, 8]\n"
     ]
    }
   ],
   "source": [
    "squares = list(map(lambda x: x**2, range(1, 6)))\n",
    "evens = list(filter(lambda x: x % 2 == 0, range(10)))\n",
    "\n",
    "print(squares)  # [1, 4, 9, 16, 25]\n",
    "print(evens) "
   ]
  },
  {
   "cell_type": "markdown",
   "id": "cd91f102",
   "metadata": {},
   "source": [
    "**Recursion: Function calling itself.**"
   ]
  },
  {
   "cell_type": "code",
   "execution_count": 60,
   "id": "da556e3a",
   "metadata": {},
   "outputs": [
    {
     "name": "stdout",
     "output_type": "stream",
     "text": [
      "120\n"
     ]
    }
   ],
   "source": [
    "def factorial(n):\n",
    "    if n==0 or n==1:\n",
    "        return 1\n",
    "    return n * factorial(n - 1)\n",
    "print(factorial(5))"
   ]
  },
  {
   "cell_type": "code",
   "execution_count": 62,
   "id": "e9276a3a",
   "metadata": {},
   "outputs": [
    {
     "name": "stdout",
     "output_type": "stream",
     "text": [
      "54321\n"
     ]
    }
   ],
   "source": [
    "def reverse_string(s):\n",
    "    if len(s) <=1 :\n",
    "        return s\n",
    "    return reverse_string(s[1:]) + s[0]\n",
    "\n",
    "print(reverse_string(\"12345\"))"
   ]
  },
  {
   "cell_type": "markdown",
   "id": "6b8a429e",
   "metadata": {},
   "source": [
    "**Scope: Local vs Global.**"
   ]
  },
  {
   "cell_type": "code",
   "execution_count": 63,
   "id": "55df41ce",
   "metadata": {},
   "outputs": [
    {
     "name": "stdout",
     "output_type": "stream",
     "text": [
      "Inside function: 10\n"
     ]
    }
   ],
   "source": [
    "def func():\n",
    "    x = 10 # local variable\n",
    "    print(\"Inside function:\", x)\n",
    "\n",
    "func()"
   ]
  },
  {
   "cell_type": "code",
   "execution_count": 65,
   "id": "83ca6218",
   "metadata": {},
   "outputs": [
    {
     "name": "stdout",
     "output_type": "stream",
     "text": [
      "Inside function: 20\n",
      "Outside function: 20\n"
     ]
    }
   ],
   "source": [
    "x = 20 # global variables\n",
    "\n",
    "def show():\n",
    "    print(\"Inside function:\", x) # can access global variable.\n",
    "\n",
    "show()\n",
    "print(\"Outside function:\", x)"
   ]
  },
  {
   "cell_type": "code",
   "execution_count": 67,
   "id": "a8ec49a4",
   "metadata": {},
   "outputs": [
    {
     "name": "stdout",
     "output_type": "stream",
     "text": [
      "2\n"
     ]
    }
   ],
   "source": [
    "# global keyword to update/modify variable:\n",
    "count = 0\n",
    "\n",
    "def increment():\n",
    "    global count\n",
    "    count += 1\n",
    "increment()\n",
    "increment()\n",
    "print(count)"
   ]
  },
  {
   "cell_type": "code",
   "execution_count": 68,
   "id": "7a5dea3d",
   "metadata": {},
   "outputs": [
    {
     "name": "stdout",
     "output_type": "stream",
     "text": [
      "local\n",
      "enclosing\n",
      "global\n"
     ]
    }
   ],
   "source": [
    "x = \"global\"\n",
    "\n",
    "def outer():\n",
    "    x = \"enclosing\"\n",
    "    def inner():\n",
    "        x = \"local\"\n",
    "        print(x)  # local\n",
    "    inner()\n",
    "    print(x)  # enclosing\n",
    "outer()\n",
    "print(x)  # global"
   ]
  },
  {
   "cell_type": "markdown",
   "id": "d0400fbd",
   "metadata": {},
   "source": [
    "**Modules: Importing, creating custom modules.**"
   ]
  },
  {
   "cell_type": "code",
   "execution_count": 70,
   "id": "a1cbf77e",
   "metadata": {},
   "outputs": [
    {
     "name": "stdout",
     "output_type": "stream",
     "text": [
      "9.0\n"
     ]
    }
   ],
   "source": [
    "# Built in modules:\n",
    "\n",
    "import math\n",
    "print(math.sqrt(81))"
   ]
  },
  {
   "cell_type": "code",
   "execution_count": 72,
   "id": "e60c054b",
   "metadata": {},
   "outputs": [
    {
     "name": "stdout",
     "output_type": "stream",
     "text": [
      "78.53981633974483\n"
     ]
    }
   ],
   "source": [
    "from math import sqrt, pi\n",
    "\n",
    "r = 5\n",
    "radius = math.pi*r**2\n",
    "print(radius)"
   ]
  },
  {
   "cell_type": "code",
   "execution_count": 81,
   "id": "81fc4670",
   "metadata": {},
   "outputs": [
    {
     "name": "stdout",
     "output_type": "stream",
     "text": [
      "Hello, Loki!\n",
      "3.14\n"
     ]
    }
   ],
   "source": [
    "import mymodule \n",
    "\n",
    "print(mymodule.greet(\"Loki\"))\n",
    "print(mymodule.pi)"
   ]
  }
 ],
 "metadata": {
  "kernelspec": {
   "display_name": "Python 3",
   "language": "python",
   "name": "python3"
  },
  "language_info": {
   "codemirror_mode": {
    "name": "ipython",
    "version": 3
   },
   "file_extension": ".py",
   "mimetype": "text/x-python",
   "name": "python",
   "nbconvert_exporter": "python",
   "pygments_lexer": "ipython3",
   "version": "3.13.1"
  }
 },
 "nbformat": 4,
 "nbformat_minor": 5
}
