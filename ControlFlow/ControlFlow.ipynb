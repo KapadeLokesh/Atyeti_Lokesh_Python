{
 "cells": [
  {
   "cell_type": "markdown",
   "id": "5e87bad4",
   "metadata": {
    "vscode": {
     "languageId": "plaintext"
    }
   },
   "source": [
    "**1.Conditional Statements: if, elif, else.**"
   ]
  },
  {
   "cell_type": "code",
   "execution_count": 1,
   "id": "30cb4255",
   "metadata": {},
   "outputs": [
    {
     "name": "stdout",
     "output_type": "stream",
     "text": [
      "a is less than b\n"
     ]
    }
   ],
   "source": [
    "a = int(input(\"Enter a num: \"))\n",
    "b = int(input(\"Enter a num: \"))\n",
    "\n",
    "if a==b:\n",
    "    print(\"a and b are equal\")\n",
    "elif (a>b):\n",
    "    print(\"a is greater than b\")\n",
    "else:\n",
    "    print(\"a is less than b\")\n",
    "\n"
   ]
  },
  {
   "cell_type": "code",
   "execution_count": 7,
   "id": "1dc8394d",
   "metadata": {},
   "outputs": [],
   "source": [
    "# Short Hand if:\n",
    "a,b=10,8\n",
    "if a<b : print(\"a is greater than b\")"
   ]
  },
  {
   "cell_type": "code",
   "execution_count": 8,
   "id": "a4e7898b",
   "metadata": {},
   "outputs": [
    {
     "name": "stdout",
     "output_type": "stream",
     "text": [
      "a is greater\n"
     ]
    }
   ],
   "source": [
    "# Short Hand if-else:\n",
    "a,b=10,8\n",
    "print(\"a is greater\") if a>b else print(\"b is greater\")"
   ]
  },
  {
   "cell_type": "code",
   "execution_count": 10,
   "id": "6fb6b76b",
   "metadata": {},
   "outputs": [
    {
     "name": "stdout",
     "output_type": "stream",
     "text": [
      "both are equal\n"
     ]
    }
   ],
   "source": [
    "# Ternary Operator:\n",
    "a,b=10,10\n",
    "print(\"a is greater\") if a>b else print(\"both are equal\") if a==b else print(\"b is greater\")"
   ]
  },
  {
   "cell_type": "code",
   "execution_count": 15,
   "id": "2cdddd7a",
   "metadata": {},
   "outputs": [
    {
     "name": "stdout",
     "output_type": "stream",
     "text": [
      "Access granted: True\n"
     ]
    }
   ],
   "source": [
    "# And, Or, Not:\n",
    "has_keycard = input(\"Enter True or False\")\n",
    "knows_password = input(\"Enter True or False\")\n",
    "invalid = input(\"Enter True or False\")\n",
    "\n",
    "can_access = (has_keycard and knows_password) or (not invalid)\n",
    "\n",
    "print(\"Access granted:\", can_access)"
   ]
  },
  {
   "cell_type": "markdown",
   "id": "ab0f0174",
   "metadata": {},
   "source": [
    "**2.Loops: for and while loops.**"
   ]
  },
  {
   "cell_type": "code",
   "execution_count": 16,
   "id": "5b9f52de",
   "metadata": {},
   "outputs": [
    {
     "name": "stdout",
     "output_type": "stream",
     "text": [
      "apple\n",
      "banana\n",
      "cherry\n"
     ]
    }
   ],
   "source": [
    "fruits = [\"apple\", \"banana\", \"cherry\"]\n",
    "\n",
    "for i in fruits:\n",
    "    print(i)"
   ]
  },
  {
   "cell_type": "code",
   "execution_count": 17,
   "id": "920c8c71",
   "metadata": {},
   "outputs": [
    {
     "name": "stdout",
     "output_type": "stream",
     "text": [
      "B\n",
      "a\n",
      "n\n",
      "a\n",
      "n\n",
      "a\n"
     ]
    }
   ],
   "source": [
    "for i in \"Banana\":\n",
    "    print(i)"
   ]
  },
  {
   "cell_type": "code",
   "execution_count": 23,
   "id": "0893449e",
   "metadata": {},
   "outputs": [
    {
     "name": "stdout",
     "output_type": "stream",
     "text": [
      "0\n",
      "1\n",
      "4\n",
      "9\n",
      "16\n",
      "25\n"
     ]
    }
   ],
   "source": [
    "# range function:\n",
    "for i in range(6):\n",
    "    print(i*i)"
   ]
  },
  {
   "cell_type": "code",
   "execution_count": 25,
   "id": "91e1b3c1",
   "metadata": {},
   "outputs": [
    {
     "name": "stdout",
     "output_type": "stream",
     "text": [
      "2 3 4 5 6 7 8 9 10 "
     ]
    }
   ],
   "source": [
    "# range function with start parameter:\n",
    "for i in range(2,11):\n",
    "    print(i, end = \" \")"
   ]
  },
  {
   "cell_type": "code",
   "execution_count": 26,
   "id": "b4e25c09",
   "metadata": {},
   "outputs": [
    {
     "name": "stdout",
     "output_type": "stream",
     "text": [
      "2 6 10 14 18 "
     ]
    }
   ],
   "source": [
    "# range function with start, end and step parameter:\n",
    "for i in range(2,20,4):\n",
    "    print(i, end = \" \")"
   ]
  },
  {
   "cell_type": "code",
   "execution_count": 33,
   "id": "2b5ff43b",
   "metadata": {},
   "outputs": [
    {
     "name": "stdout",
     "output_type": "stream",
     "text": [
      "4 5 6 8 10 12 12 15 18 "
     ]
    }
   ],
   "source": [
    "# nested loops:\n",
    "\n",
    "list1 = [1,2,3]\n",
    "list2 = [4,5,6]\n",
    "\n",
    "for i in list1:\n",
    "    for j in list2:\n",
    "        print(i*j,end = \" \")"
   ]
  },
  {
   "cell_type": "code",
   "execution_count": 41,
   "id": "c8e53bd4",
   "metadata": {},
   "outputs": [
    {
     "name": "stdout",
     "output_type": "stream",
     "text": [
      "1 2 3 4 5 "
     ]
    }
   ],
   "source": [
    "# while loops:\n",
    "\n",
    "i = 1\n",
    "while i<6 :\n",
    "    print(i,end = ' ')\n",
    "    i+=1"
   ]
  },
  {
   "cell_type": "code",
   "execution_count": 42,
   "id": "33797de8",
   "metadata": {},
   "outputs": [
    {
     "name": "stdout",
     "output_type": "stream",
     "text": [
      "Access Granted\n"
     ]
    }
   ],
   "source": [
    "password = \"\"\n",
    "while password != \"1234\":\n",
    "    password = input(\"Enter password: \")\n",
    "print(\"Access Granted\")"
   ]
  },
  {
   "cell_type": "markdown",
   "id": "9b8a19ea",
   "metadata": {},
   "source": [
    "**3.Loop Control: break, continue, pass.**"
   ]
  },
  {
   "cell_type": "code",
   "execution_count": 43,
   "id": "a19827ee",
   "metadata": {},
   "outputs": [
    {
     "name": "stdout",
     "output_type": "stream",
     "text": [
      "apple\n"
     ]
    }
   ],
   "source": [
    "# break statement:\n",
    "fruits = [\"apple\", \"banana\", \"cherry\"]\n",
    "for x in fruits:\n",
    "  if x == \"banana\":\n",
    "    break\n",
    "  print(x)"
   ]
  },
  {
   "cell_type": "code",
   "execution_count": 44,
   "id": "8c6d7650",
   "metadata": {},
   "outputs": [
    {
     "name": "stdout",
     "output_type": "stream",
     "text": [
      "apple\n",
      "cherry\n"
     ]
    }
   ],
   "source": [
    "# continue statement:\n",
    "fruits = [\"apple\", \"banana\", \"cherry\"]\n",
    "for x in fruits:\n",
    "  if x == \"banana\":\n",
    "    continue\n",
    "  print(x)"
   ]
  },
  {
   "cell_type": "code",
   "execution_count": 45,
   "metadata": {},
   "outputs": [],
   "source": [
    "# pass statement - to avoid error in empty loops:\n",
    "\n",
    "for i in range(100):\n",
    "    pass"
   ]
  },
  {
   "cell_type": "markdown",
   "id": "c1ec83c9",
   "metadata": {},
   "source": [
    "**4.Loop else clause: else clause after loops when no break occurs.**"
   ]
  },
  {
   "cell_type": "code",
   "execution_count": 46,
   "id": "5dd2d513",
   "metadata": {},
   "outputs": [
    {
     "name": "stdout",
     "output_type": "stream",
     "text": [
      "0\n",
      "1\n",
      "2\n",
      "3\n",
      "4\n",
      "5\n",
      "Completed\n"
     ]
    }
   ],
   "source": [
    "# else in for loop:\n",
    "\n",
    "for i in range(6):\n",
    "    print(i)\n",
    "else:\n",
    "    print(\"Completed\")"
   ]
  },
  {
   "cell_type": "code",
   "execution_count": 47,
   "id": "dcb6858f",
   "metadata": {},
   "outputs": [
    {
     "name": "stdout",
     "output_type": "stream",
     "text": [
      "0\n",
      "1\n",
      "2\n",
      "3\n"
     ]
    }
   ],
   "source": [
    "# else in for loop:\n",
    "\n",
    "for i in range(6):\n",
    "    print(i)\n",
    "    if i==3:\n",
    "        break\n",
    "else:\n",
    "    print(\"Completed\")"
   ]
  },
  {
   "cell_type": "code",
   "execution_count": 50,
   "id": "14e78533",
   "metadata": {},
   "outputs": [
    {
     "name": "stdout",
     "output_type": "stream",
     "text": [
      "1\n",
      "2\n",
      "3\n",
      "4\n",
      "5\n",
      "i is no longer less than 6\n"
     ]
    }
   ],
   "source": [
    "i = 1\n",
    "while i < 6:\n",
    "  print(i)\n",
    "  i += 1\n",
    "else:\n",
    "  print(\"i is no longer less than 6\")"
   ]
  },
  {
   "cell_type": "code",
   "execution_count": 49,
   "id": "656f2266",
   "metadata": {},
   "outputs": [
    {
     "name": "stdout",
     "output_type": "stream",
     "text": [
      "1 2 "
     ]
    }
   ],
   "source": [
    "i = 1\n",
    "while i<6:\n",
    "    print(i,end=' ')\n",
    "    i+=1\n",
    "    if i == 3:\n",
    "        break\n",
    "else:\n",
    "    print(\"Done\")"
   ]
  },
  {
   "cell_type": "code",
   "execution_count": null,
   "id": "954da485",
   "metadata": {},
   "outputs": [],
   "source": []
  },
  {
   "cell_type": "code",
   "execution_count": null,
   "id": "6ae2f5c7",
   "metadata": {},
   "outputs": [],
   "source": []
  },
  {
   "cell_type": "code",
   "execution_count": null,
   "id": "11e0d4d4",
   "metadata": {},
   "outputs": [],
   "source": []
  },
  {
   "cell_type": "code",
   "execution_count": null,
   "id": "485f6629",
   "metadata": {},
   "outputs": [],
   "source": []
  }
 ],
 "metadata": {
  "kernelspec": {
   "display_name": "Python 3",
   "language": "python",
   "name": "python3"
  },
  "language_info": {
   "codemirror_mode": {
    "name": "ipython",
    "version": 3
   },
   "file_extension": ".py",
   "mimetype": "text/x-python",
   "name": "python",
   "nbconvert_exporter": "python",
   "pygments_lexer": "ipython3",
   "version": "3.13.1"
  }
 },
 "nbformat": 4,
 "nbformat_minor": 5
}
