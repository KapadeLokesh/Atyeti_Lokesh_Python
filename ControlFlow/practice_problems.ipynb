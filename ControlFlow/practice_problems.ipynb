{
 "cells": [
  {
   "cell_type": "markdown",
   "id": "7b25bb93",
   "metadata": {},
   "source": [
    "1. Conditional Statements: if, elif, else"
   ]
  },
  {
   "cell_type": "markdown",
   "id": "8fdd12c4",
   "metadata": {},
   "source": [
    "Problem 1:\n",
    "Write a program that takes an integer input and prints whether it is: Positive,Negative,Zero."
   ]
  },
  {
   "cell_type": "code",
   "execution_count": 2,
   "id": "dba1042b",
   "metadata": {},
   "outputs": [
    {
     "name": "stdout",
     "output_type": "stream",
     "text": [
      "Positive\n"
     ]
    }
   ],
   "source": [
    "num = int(input(\"Enter a number: \"))\n",
    "if num > 0:\n",
    "    print(\"Positive\")\n",
    "elif num < 0:\n",
    "    print(\"Negative\")\n",
    "else:\n",
    "    print(\"Zero\")"
   ]
  },
  {
   "cell_type": "markdown",
   "id": "fac1b8e4",
   "metadata": {},
   "source": [
    "Problem 2:\n",
    "Create a program that asks a user to input their age. Based on the age, print:\n",
    "\"Child\" if age < 13\n",
    "\"Teenager\" if 13 <= age < 18\n",
    "\"Adult\" if 18 <= age < 60\n",
    "\"Senior\" if age >= 60"
   ]
  },
  {
   "cell_type": "code",
   "execution_count": 3,
   "id": "799fcfe8",
   "metadata": {},
   "outputs": [
    {
     "name": "stdout",
     "output_type": "stream",
     "text": [
      "Adult\n"
     ]
    }
   ],
   "source": [
    "age = int(input(\"Enter your age: \"))\n",
    "\n",
    "if age < 13:\n",
    "    print(\"Child\")\n",
    "elif age >=13 and age < 18:\n",
    "    print(\"Teenager\")\n",
    "elif age >=18 and age < 60:\n",
    "    print(\"Adult\")\n",
    "else:\n",
    "    print(\"Senior\")"
   ]
  },
  {
   "cell_type": "markdown",
   "id": "9defcac0",
   "metadata": {},
   "source": [
    "Problem 3:\n",
    "Check whether a given year is a leap year or not."
   ]
  },
  {
   "cell_type": "code",
   "execution_count": 9,
   "id": "763c1e51",
   "metadata": {},
   "outputs": [
    {
     "name": "stdout",
     "output_type": "stream",
     "text": [
      "2024 is a Leap year.\n"
     ]
    }
   ],
   "source": [
    "year = int(input(\"Enter a year: \"))\n",
    "if (year%4==0 and year%100!=0) or year%400==0:\n",
    "    print(f\"{year} is a Leap year.\")\n",
    "else:\n",
    "    print(f\"{year} is not a Leap year.\")"
   ]
  },
  {
   "cell_type": "markdown",
   "id": "efb86cf5",
   "metadata": {},
   "source": [
    "2. Loops: for and while"
   ]
  },
  {
   "cell_type": "markdown",
   "id": "3ba63f3b",
   "metadata": {},
   "source": [
    "Problem 4:\n",
    "Print the first 10 even numbers using a for loop."
   ]
  },
  {
   "cell_type": "code",
   "execution_count": 13,
   "id": "fe7c0c44",
   "metadata": {},
   "outputs": [
    {
     "name": "stdout",
     "output_type": "stream",
     "text": [
      "0 2 4 6 8 10 12 14 16 18 20 "
     ]
    }
   ],
   "source": [
    "for num in range(21):\n",
    "    if num%2 ==0:\n",
    "        print(num, end =\" \")"
   ]
  },
  {
   "cell_type": "markdown",
   "id": "ea09f44b",
   "metadata": {},
   "source": [
    "Problem 5:\n",
    "Use a while loop to find the sum of all integers from 1 to 100."
   ]
  },
  {
   "cell_type": "code",
   "execution_count": 17,
   "id": "e6fabcf6",
   "metadata": {},
   "outputs": [
    {
     "name": "stdout",
     "output_type": "stream",
     "text": [
      "5050\n"
     ]
    }
   ],
   "source": [
    "i=1\n",
    "total = 0\n",
    "\n",
    "while i<=100:\n",
    "    total+=i\n",
    "    i+=1\n",
    "\n",
    "print(total)\n",
    "\n"
   ]
  },
  {
   "cell_type": "markdown",
   "id": "698a264a",
   "metadata": {},
   "source": [
    "Problem 6:\n",
    "Write a program that asks for numbers repeatedly until the user enters 0. Then, print the total sum of all entered numbers (excluding the 0)."
   ]
  },
  {
   "cell_type": "code",
   "execution_count": 21,
   "id": "a310d27a",
   "metadata": {},
   "outputs": [
    {
     "name": "stdout",
     "output_type": "stream",
     "text": [
      "Total Sum:  18\n"
     ]
    }
   ],
   "source": [
    "total = 0\n",
    "num = None\n",
    "while num!=0:\n",
    "    num = int(input(\"Enter a number: \"))\n",
    "    total += num\n",
    "\n",
    "print(\"Total Sum: \",total)"
   ]
  },
  {
   "cell_type": "markdown",
   "id": "9959da26",
   "metadata": {},
   "source": [
    "3. Loop Control: break, continue, pass"
   ]
  },
  {
   "cell_type": "markdown",
   "id": "77848757",
   "metadata": {},
   "source": [
    "Problem 7:\n",
    "Use a loop to find the first number between 1 and 100 that is divisible by 7 and 11. Use break to exit when found."
   ]
  },
  {
   "cell_type": "code",
   "execution_count": 22,
   "id": "b270d1e5",
   "metadata": {},
   "outputs": [
    {
     "name": "stdout",
     "output_type": "stream",
     "text": [
      "77\n"
     ]
    }
   ],
   "source": [
    "for num in range(1,101):\n",
    "    if num%7 ==0 and num%11 ==0:\n",
    "        print(num)\n",
    "        break"
   ]
  },
  {
   "cell_type": "markdown",
   "id": "1fccd09f",
   "metadata": {},
   "source": [
    "Problem 8:\n",
    "Write a loop that prints all numbers from 1 to 50, but skips numbers divisible by 5 using continue."
   ]
  },
  {
   "cell_type": "code",
   "execution_count": 27,
   "id": "63669857",
   "metadata": {},
   "outputs": [
    {
     "name": "stdout",
     "output_type": "stream",
     "text": [
      "1 2 3 4 6 7 8 9 11 12 13 14 16 17 18 19 21 22 23 24 26 27 28 29 31 32 33 34 36 37 38 39 41 42 43 44 46 47 48 49 "
     ]
    }
   ],
   "source": [
    "for num in range(51):\n",
    "    if num%5 !=0:\n",
    "        print(num,end=\" \")\n",
    "        continue"
   ]
  },
  {
   "cell_type": "markdown",
   "id": "fbc7783a",
   "metadata": {},
   "source": [
    "Problem 9:\n",
    "Write a for loop that checks numbers from 1 to 10. If the number is even, just pass. Otherwise, print the number."
   ]
  },
  {
   "cell_type": "code",
   "execution_count": 28,
   "id": "efa7f282",
   "metadata": {},
   "outputs": [
    {
     "name": "stdout",
     "output_type": "stream",
     "text": [
      "1\n",
      "3\n",
      "5\n",
      "7\n",
      "9\n"
     ]
    }
   ],
   "source": [
    "for num in range(11):\n",
    "    if num%2 ==0:\n",
    "        pass\n",
    "    else:\n",
    "        print(num)"
   ]
  },
  {
   "cell_type": "markdown",
   "id": "b0034623",
   "metadata": {},
   "source": [
    "4. Loop else Clause"
   ]
  },
  {
   "cell_type": "markdown",
   "id": "9673871c",
   "metadata": {},
   "source": [
    "Problem 10:\n",
    "Write a program to search for a number in a list. If found, print \"Found it!\" and stop the loop. If the loop finishes without finding the number, print \"Not found!\". Use else with the loop."
   ]
  },
  {
   "cell_type": "code",
   "execution_count": 31,
   "id": "88b146c3",
   "metadata": {},
   "outputs": [
    {
     "name": "stdout",
     "output_type": "stream",
     "text": [
      "Found it!\n"
     ]
    }
   ],
   "source": [
    "numbers = [3, 8, 15, 23, 42, 7, 19]\n",
    "target = int(input(\"Enter the number to search for: \"))\n",
    "\n",
    "for num in numbers:\n",
    "    if num == target:\n",
    "        print(\"Found it!\")\n",
    "        break\n",
    "else:\n",
    "    print(\"Not found!\")"
   ]
  },
  {
   "cell_type": "markdown",
   "id": "7fec9ef9",
   "metadata": {},
   "source": [
    "Problem 11:\n",
    "Check whether a number is prime. Use a loop with else to indicate if no divisors were found."
   ]
  },
  {
   "cell_type": "code",
   "execution_count": 11,
   "id": "c602b55a",
   "metadata": {},
   "outputs": [
    {
     "name": "stdout",
     "output_type": "stream",
     "text": [
      "5 is a prime number.\n"
     ]
    }
   ],
   "source": [
    "number = int(input())\n",
    "\n",
    "for i in range(2, int(number ** 0.5) + 1): \n",
    "    if number % i == 0:\n",
    "        print(f\"{number} is not a prime number (divisible by {i}).\")\n",
    "        break\n",
    "else:\n",
    "    print(f\"{number} is a prime number.\")"
   ]
  },
  {
   "cell_type": "markdown",
   "id": "cb669502",
   "metadata": {},
   "source": [
    "Problem 12:\n",
    "Write a program that tries to find a perfect square in a list of integers. If it finds one, print \"Perfect square found!\". If not, print \"No perfect square in the list.\""
   ]
  },
  {
   "cell_type": "code",
   "execution_count": 14,
   "id": "8163505c",
   "metadata": {},
   "outputs": [
    {
     "name": "stdout",
     "output_type": "stream",
     "text": [
      "16 perfect square.\n",
      "81 perfect square.\n"
     ]
    }
   ],
   "source": [
    "import math\n",
    "list1 = [3,7,10,16,23,81]\n",
    "\n",
    "for num in list1:\n",
    "    if num>0 and math.isqrt(num)**2 ==num:\n",
    "        print(f\"{num} perfect square.\")\n"
   ]
  }
 ],
 "metadata": {
  "kernelspec": {
   "display_name": "Python 3",
   "language": "python",
   "name": "python3"
  },
  "language_info": {
   "codemirror_mode": {
    "name": "ipython",
    "version": 3
   },
   "file_extension": ".py",
   "mimetype": "text/x-python",
   "name": "python",
   "nbconvert_exporter": "python",
   "pygments_lexer": "ipython3",
   "version": "3.13.1"
  }
 },
 "nbformat": 4,
 "nbformat_minor": 5
}
