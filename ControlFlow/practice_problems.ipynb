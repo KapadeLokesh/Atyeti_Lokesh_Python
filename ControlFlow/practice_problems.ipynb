{
 "cells": [
  {
   "cell_type": "markdown",
   "id": "7b25bb93",
   "metadata": {},
   "source": [
    "1. Conditional Statements: if, elif, else"
   ]
  },
  {
   "cell_type": "markdown",
   "id": "8fdd12c4",
   "metadata": {},
   "source": [
    "Problem 1:\n",
    "Write a program that takes an integer input and prints whether it is: Positive,Negative,Zero."
   ]
  },
  {
   "cell_type": "code",
   "execution_count": 2,
   "id": "dba1042b",
   "metadata": {},
   "outputs": [
    {
     "name": "stdout",
     "output_type": "stream",
     "text": [
      "Positive\n"
     ]
    }
   ],
   "source": [
    "num = int(input(\"Enter a number: \"))\n",
    "if num > 0:\n",
    "    print(\"Positive\")\n",
    "elif num < 0:\n",
    "    print(\"Negative\")\n",
    "else:\n",
    "    print(\"Zero\")"
   ]
  },
  {
   "cell_type": "markdown",
   "id": "fac1b8e4",
   "metadata": {},
   "source": [
    "Problem 2:\n",
    "Create a program that asks a user to input their age. Based on the age, print:\n",
    "\"Child\" if age < 13\n",
    "\"Teenager\" if 13 <= age < 18\n",
    "\"Adult\" if 18 <= age < 60\n",
    "\"Senior\" if age >= 60"
   ]
  },
  {
   "cell_type": "code",
   "execution_count": 3,
   "id": "799fcfe8",
   "metadata": {},
   "outputs": [
    {
     "name": "stdout",
     "output_type": "stream",
     "text": [
      "Adult\n"
     ]
    }
   ],
   "source": [
    "age = int(input(\"Enter your age: \"))\n",
    "\n",
    "if age < 13:\n",
    "    print(\"Child\")\n",
    "elif age >=13 and age < 18:\n",
    "    print(\"Teenager\")\n",
    "elif age >=18 and age < 60:\n",
    "    print(\"Adult\")\n",
    "else:\n",
    "    print(\"Senior\")"
   ]
  },
  {
   "cell_type": "markdown",
   "id": "9defcac0",
   "metadata": {},
   "source": [
    "Problem 3:\n",
    "Check whether a given year is a leap year or not."
   ]
  },
  {
   "cell_type": "code",
   "execution_count": 9,
   "id": "763c1e51",
   "metadata": {},
   "outputs": [
    {
     "name": "stdout",
     "output_type": "stream",
     "text": [
      "2024 is a Leap year.\n"
     ]
    }
   ],
   "source": [
    "year = int(input(\"Enter a year: \"))\n",
    "if (year%4==0 and year%100!=0) or year%400==0:\n",
    "    print(f\"{year} is a Leap year.\")\n",
    "else:\n",
    "    print(f\"{year} is not a Leap year.\")"
   ]
  },
  {
   "cell_type": "markdown",
   "id": "efb86cf5",
   "metadata": {},
   "source": [
    "2. Loops: for and while"
   ]
  },
  {
   "cell_type": "markdown",
   "id": "3ba63f3b",
   "metadata": {},
   "source": [
    "Problem 4:\n",
    "Print the first 10 even numbers using a for loop."
   ]
  },
  {
   "cell_type": "code",
   "execution_count": 13,
   "id": "fe7c0c44",
   "metadata": {},
   "outputs": [
    {
     "name": "stdout",
     "output_type": "stream",
     "text": [
      "0 2 4 6 8 10 12 14 16 18 20 "
     ]
    }
   ],
   "source": [
    "for num in range(21):\n",
    "    if num%2 ==0:\n",
    "        print(num, end =\" \")"
   ]
  },
  {
   "cell_type": "markdown",
   "id": "ea09f44b",
   "metadata": {},
   "source": [
    "Problem 5:\n",
    "Use a while loop to find the sum of all integers from 1 to 100."
   ]
  },
  {
   "cell_type": "code",
   "execution_count": 17,
   "id": "e6fabcf6",
   "metadata": {},
   "outputs": [
    {
     "name": "stdout",
     "output_type": "stream",
     "text": [
      "5050\n"
     ]
    }
   ],
   "source": [
    "i=1\n",
    "total = 0\n",
    "\n",
    "while i<=100:\n",
    "    total+=i\n",
    "    i+=1\n",
    "\n",
    "print(total)\n",
    "\n"
   ]
  }
 ],
 "metadata": {
  "kernelspec": {
   "display_name": "Python 3",
   "language": "python",
   "name": "python3"
  },
  "language_info": {
   "codemirror_mode": {
    "name": "ipython",
    "version": 3
   },
   "file_extension": ".py",
   "mimetype": "text/x-python",
   "name": "python",
   "nbconvert_exporter": "python",
   "pygments_lexer": "ipython3",
   "version": "3.13.1"
  }
 },
 "nbformat": 4,
 "nbformat_minor": 5
}
