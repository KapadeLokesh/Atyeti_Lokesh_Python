{
 "cells": [
  {
   "cell_type": "markdown",
   "id": "2113ad01",
   "metadata": {},
   "source": [
    "**Try-Except: Basic error handling.**"
   ]
  },
  {
   "cell_type": "code",
   "execution_count": 1,
   "id": "df2e1313",
   "metadata": {},
   "outputs": [
    {
     "name": "stdout",
     "output_type": "stream",
     "text": [
      "An exception occurred\n"
     ]
    }
   ],
   "source": [
    "# exceptional handling\n",
    "try:\n",
    "    print(x)\n",
    "except:\n",
    "    print(\"An exception occurred\")"
   ]
  },
  {
   "cell_type": "code",
   "execution_count": 2,
   "id": "b5575241",
   "metadata": {},
   "outputs": [
    {
     "name": "stdout",
     "output_type": "stream",
     "text": [
      "Division by zero\n"
     ]
    }
   ],
   "source": [
    "try:\n",
    "    print(10/0)\n",
    "except ZeroDivisionError:\n",
    "    print(\"Division by zero\")\n",
    "except:\n",
    "    print(\"Something wrong\")"
   ]
  },
  {
   "cell_type": "code",
   "execution_count": 2,
   "id": "b9cad868",
   "metadata": {},
   "outputs": [
    {
     "name": "stdout",
     "output_type": "stream",
     "text": [
      "Hello\n",
      "Completed\n"
     ]
    }
   ],
   "source": [
    "# else block will executed if no error raised.\n",
    "try:\n",
    "    print(\"Hello\")\n",
    "except:\n",
    "    print(\"Something is wrong\")\n",
    "else:\n",
    "    print(\"Completed\")"
   ]
  },
  {
   "cell_type": "code",
   "execution_count": 6,
   "id": "012149d5",
   "metadata": {},
   "outputs": [
    {
     "name": "stdout",
     "output_type": "stream",
     "text": [
      "Something went wrong\n",
      "Completed.\n"
     ]
    }
   ],
   "source": [
    "try:\n",
    "  print(x) # will raise error\n",
    "except:\n",
    "  print(\"Something went wrong\")\n",
    "finally:\n",
    "  print(\"Completed.\")"
   ]
  },
  {
   "cell_type": "code",
   "execution_count": 1,
   "id": "6dd23d22",
   "metadata": {},
   "outputs": [
    {
     "name": "stdout",
     "output_type": "stream",
     "text": [
      "Invalid input.\n",
      "Successfull\n"
     ]
    }
   ],
   "source": [
    "# multiple exception:\n",
    "try:\n",
    "    num = int(input())\n",
    "    result = 100/num\n",
    "except ZeroDivisionError:\n",
    "    print(\"Cannot divide by zero.\")\n",
    "except ValueError:\n",
    "    print(\"Invalid input.\")\n",
    "else:\n",
    "    print(result)\n",
    "finally:\n",
    "    print(\"Successfull\")"
   ]
  },
  {
   "cell_type": "code",
   "execution_count": 1,
   "id": "98a000b9",
   "metadata": {},
   "outputs": [
    {
     "name": "stdout",
     "output_type": "stream",
     "text": [
      "Error...\n"
     ]
    }
   ],
   "source": [
    "try:\n",
    "    first = int(input())\n",
    "    second = int(input())\n",
    "    print(first/second)\n",
    "except(ValueError,ZeroDivisionError):\n",
    "    print(\"Error...\")"
   ]
  },
  {
   "cell_type": "code",
   "execution_count": 3,
   "id": "ecf787dc",
   "metadata": {},
   "outputs": [
    {
     "name": "stdout",
     "output_type": "stream",
     "text": [
      "A ValueError has occurred.\n"
     ]
    }
   ],
   "source": [
    "try:\n",
    "    first = float(input(\"What is your first number? \"))\n",
    "    second = float(input(\"What is your second number? \"))\n",
    "    print(f\"{first} divided by {second} is {first / second}\")\n",
    "except (ValueError, ZeroDivisionError) as error:\n",
    "    print(f\"A {type(error).__name__} has occurred.\")"
   ]
  },
  {
   "cell_type": "code",
   "execution_count": 8,
   "id": "86b63394",
   "metadata": {},
   "outputs": [
    {
     "ename": "Exception",
     "evalue": "Sorry, no numbers below zero",
     "output_type": "error",
     "traceback": [
      "\u001b[31m---------------------------------------------------------------------------\u001b[39m",
      "\u001b[31mException\u001b[39m                                 Traceback (most recent call last)",
      "\u001b[36mCell\u001b[39m\u001b[36m \u001b[39m\u001b[32mIn[8]\u001b[39m\u001b[32m, line 4\u001b[39m\n\u001b[32m      1\u001b[39m x = -\u001b[32m1\u001b[39m\n\u001b[32m      3\u001b[39m \u001b[38;5;28;01mif\u001b[39;00m x < \u001b[32m0\u001b[39m:\n\u001b[32m----> \u001b[39m\u001b[32m4\u001b[39m   \u001b[38;5;28;01mraise\u001b[39;00m \u001b[38;5;167;01mException\u001b[39;00m(\u001b[33m\"\u001b[39m\u001b[33mSorry, no numbers below zero\u001b[39m\u001b[33m\"\u001b[39m)\n",
      "\u001b[31mException\u001b[39m: Sorry, no numbers below zero"
     ]
    }
   ],
   "source": [
    "x = -1\n",
    "\n",
    "if x < 0:\n",
    "  raise Exception(\"Sorry, no numbers below zero\")"
   ]
  },
  {
   "cell_type": "code",
   "execution_count": 3,
   "id": "d2d7a7f6",
   "metadata": {},
   "outputs": [
    {
     "ename": "ValueError",
     "evalue": "Error...please provide an integer..",
     "output_type": "error",
     "traceback": [
      "\u001b[31m---------------------------------------------------------------------------\u001b[39m",
      "\u001b[31mValueError\u001b[39m                                Traceback (most recent call last)",
      "\u001b[36mCell\u001b[39m\u001b[36m \u001b[39m\u001b[32mIn[3]\u001b[39m\u001b[32m, line 3\u001b[39m\n\u001b[32m      2\u001b[39m \u001b[38;5;28;01mtry\u001b[39;00m:\n\u001b[32m----> \u001b[39m\u001b[32m3\u001b[39m     num = \u001b[38;5;28;43mint\u001b[39;49m\u001b[43m(\u001b[49m\u001b[43ms\u001b[49m\u001b[43m)\u001b[49m\n\u001b[32m      4\u001b[39m \u001b[38;5;28;01mexcept\u001b[39;00m \u001b[38;5;167;01mValueError\u001b[39;00m:\n",
      "\u001b[31mValueError\u001b[39m: invalid literal for int() with base 10: 'Hello world'",
      "\nDuring handling of the above exception, another exception occurred:\n",
      "\u001b[31mValueError\u001b[39m                                Traceback (most recent call last)",
      "\u001b[36mCell\u001b[39m\u001b[36m \u001b[39m\u001b[32mIn[3]\u001b[39m\u001b[32m, line 5\u001b[39m\n\u001b[32m      3\u001b[39m     num = \u001b[38;5;28mint\u001b[39m(s)\n\u001b[32m      4\u001b[39m \u001b[38;5;28;01mexcept\u001b[39;00m \u001b[38;5;167;01mValueError\u001b[39;00m:\n\u001b[32m----> \u001b[39m\u001b[32m5\u001b[39m     \u001b[38;5;28;01mraise\u001b[39;00m \u001b[38;5;167;01mValueError\u001b[39;00m(\u001b[33m\"\u001b[39m\u001b[33mError...please provide an integer..\u001b[39m\u001b[33m\"\u001b[39m)\n",
      "\u001b[31mValueError\u001b[39m: Error...please provide an integer.."
     ]
    }
   ],
   "source": [
    "s = \"Hello world\"\n",
    "try:\n",
    "    num = int(s)\n",
    "except ValueError:\n",
    "    raise ValueError(\"Error...please provide an integer..\")"
   ]
  },
  {
   "cell_type": "code",
   "execution_count": 5,
   "id": "aa26997e",
   "metadata": {},
   "outputs": [
    {
     "name": "stdout",
     "output_type": "stream",
     "text": [
      "Something went wrong when opening the file.\n"
     ]
    }
   ],
   "source": [
    "try:\n",
    "  f = open(\"demofile.txt\")\n",
    "  try:\n",
    "    f.write(\"Lorum Ipsum\")\n",
    "  except:\n",
    "    print(\"Something went wrong when writing to the file.\")\n",
    "  finally:\n",
    "    f.close()\n",
    "except:\n",
    "  print(\"Something went wrong when opening the file.\")"
   ]
  },
  {
   "cell_type": "markdown",
   "id": "cc45f89a",
   "metadata": {},
   "source": [
    "**User-Defined Exception**"
   ]
  },
  {
   "cell_type": "code",
   "execution_count": 1,
   "id": "234824a4",
   "metadata": {},
   "outputs": [],
   "source": [
    "class MyCustomError(Exception):\n",
    "   pass"
   ]
  },
  {
   "cell_type": "code",
   "execution_count": 4,
   "id": "33c386a5",
   "metadata": {},
   "outputs": [
    {
     "name": "stdout",
     "output_type": "stream",
     "text": [
      "Invalid age: 150. Age must me above 18.\n"
     ]
    }
   ],
   "source": [
    "class InvalidAge(Exception):\n",
    "    def __init__(self,age,message = \"Age must me above 18.\"):\n",
    "        self.age = age\n",
    "        self.message = message\n",
    "        super().__init__(self.message)\n",
    "\n",
    "    def __str__(self):\n",
    "      return f\"{self.message}. Provided age: {self.age}\"\n",
    "    \n",
    "def set_age(age):\n",
    "   if age < 18 or age > 100:\n",
    "      raise InvalidAge(age)\n",
    "   print(f\"Age is set to {age}\")\n",
    "\n",
    "try:\n",
    "   set_age(150)\n",
    "except InvalidAge as e:\n",
    "   print(f\"Invalid age: {e.age}. {e.message}\")"
   ]
  },
  {
   "cell_type": "code",
   "execution_count": null,
   "id": "d7409276",
   "metadata": {},
   "outputs": [],
   "source": []
  }
 ],
 "metadata": {
  "kernelspec": {
   "display_name": "Python 3",
   "language": "python",
   "name": "python3"
  },
  "language_info": {
   "codemirror_mode": {
    "name": "ipython",
    "version": 3
   },
   "file_extension": ".py",
   "mimetype": "text/x-python",
   "name": "python",
   "nbconvert_exporter": "python",
   "pygments_lexer": "ipython3",
   "version": "3.13.1"
  }
 },
 "nbformat": 4,
 "nbformat_minor": 5
}
